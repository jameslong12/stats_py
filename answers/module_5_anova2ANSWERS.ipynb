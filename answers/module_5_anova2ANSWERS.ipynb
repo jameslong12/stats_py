{
 "nbformat": 4,
 "nbformat_minor": 0,
 "metadata": {
  "colab": {
   "name": "module_5_anova2.ipynb",
   "provenance": [],
   "authorship_tag": "ABX9TyP69MJYwwhEkwowH/urbHWf"
  },
  "kernelspec": {
   "name": "python3",
   "display_name": "Python 3"
  },
  "language_info": {
   "name": "python"
  }
 },
 "cells": [
  {
   "cell_type": "markdown",
   "source": [
    "# Module 5: Two-way ANOVA\n",
    "\n",
    "## Renal function\n",
    "Assume you are performing a study on renal function. You are measuring the urine volume (mL) of subjects one hour after they receive a treatment. The subjects consist of 9 males and 9 females where 3 receive a sugar pill, 3 receive a salt pill, and 3 receive a caffeine pill. The collected data is stored to a .csv file.\n",
    "\n",
    "Before starting the Python, discuss briefly: what are the null hypotheses for this study?"
   ],
   "metadata": {
    "id": "Oiq-nEh801u_",
    "pycharm": {
     "name": "#%% md\n"
    }
   }
  },
  {
   "cell_type": "code",
   "execution_count": null,
   "metadata": {
    "colab": {
     "base_uri": "https://localhost:8080/"
    },
    "id": "gksg5B_L0lF7",
    "executionInfo": {
     "status": "ok",
     "timestamp": 1640037493351,
     "user_tz": 360,
     "elapsed": 879,
     "user": {
      "displayName": "James Long",
      "photoUrl": "https://lh3.googleusercontent.com/a/default-user=s64",
      "userId": "02561479835225328505"
     }
    },
    "outputId": "6252ad70-2684-4f75-a371-a56fa6704b43",
    "pycharm": {
     "name": "#%%\n"
    }
   },
   "outputs": [
    {
     "output_type": "stream",
     "name": "stdout",
     "text": [
      "<class 'pandas.core.frame.DataFrame'>\n",
      "RangeIndex: 18 entries, 0 to 17\n",
      "Data columns (total 3 columns):\n",
      " #   Column     Non-Null Count  Dtype \n",
      "---  ------     --------------  ----- \n",
      " 0   treatment  18 non-null     object\n",
      " 1   sex        18 non-null     object\n",
      " 2   volume     18 non-null     int64 \n",
      "dtypes: int64(1), object(2)\n",
      "memory usage: 560.0+ bytes\n"
     ]
    }
   ],
   "source": [
    "import scipy.stats as stats\n",
    "import numpy as np\n",
    "import pandas as pd\n",
    "import statsmodels.api as sm              # A new stats package - you'll fine there are a lot\n",
    "from statsmodels.formula.api import ols\n",
    "\n",
    "df = pd.read_csv(\"../data/urine_volume_data.csv\")\n",
    "df.info()"
   ]
  },
  {
   "cell_type": "markdown",
   "source": [
    "## Calculating sum of squares\n",
    "Assume the data passes the assumptions necessary to perform a two-way ANOVA. Fill out the table below:\n",
    "\n",
    "| | Sum of squares (SS) | Degrees of freedom (DF) |\n",
    "| --- | --- | --- |\n",
    "| Total | | |\n",
    "| Cells (groups) | | |\n",
    "| Error (within-cells) | | |\n",
    "| Factor A (treatment) | | |\n",
    "| Factor B (sex) | | |\n",
    "| A x B interaction | | |"
   ],
   "metadata": {
    "id": "cCTujsyT1X5S",
    "pycharm": {
     "name": "#%% md\n"
    }
   }
  },
  {
   "cell_type": "code",
   "source": [
    "# statsmodels.api will calculate some of the SS for us. Calculate the rest.\n",
    "model = ols('volume ~ C(treatment) + C(sex) + C(treatment):C(sex)', data=df).fit()\n",
    "ss_results = sm.stats.anova_lm(model, typ=2)\n",
    "\n",
    "ss_factorA = ss_results['sum_sq']['C(treatment)']\n",
    "ss_factorB = ss_results['sum_sq']['C(sex)']\n",
    "ss_AxB = ss_results['sum_sq']['C(treatment):C(sex)']\n",
    "ss_error = ss_results['sum_sq']['Residual']\n",
    "ss_groups = ss_factorA+ss_factorB+ss_AxB\n",
    "ss_total = ss_groups+ss_error\n",
    "\n",
    "print('Sum of squares:')\n",
    "print('Total: %.2f' % ss_total)\n",
    "print('Groups: %.2f' % ss_groups)\n",
    "print('Error: %.2f' % ss_error)\n",
    "print('Factor A: %.2f' % ss_factorA)\n",
    "print('Factor B: %.2f' % ss_factorB)\n",
    "print('AxB interaction: %.2f' % ss_AxB)"
   ],
   "metadata": {
    "colab": {
     "base_uri": "https://localhost:8080/"
    },
    "id": "Fgj68--G149f",
    "executionInfo": {
     "status": "ok",
     "timestamp": 1640037911757,
     "user_tz": 360,
     "elapsed": 190,
     "user": {
      "displayName": "James Long",
      "photoUrl": "https://lh3.googleusercontent.com/a/default-user=s64",
      "userId": "02561479835225328505"
     }
    },
    "outputId": "9704d5e1-b752-45c5-c5c3-384e0e1fe179",
    "pycharm": {
     "name": "#%%\n"
    }
   },
   "execution_count": null,
   "outputs": [
    {
     "output_type": "stream",
     "name": "stdout",
     "text": [
      "Sum of squares:\n",
      "Total: 7544.44\n",
      "Groups: 6327.78\n",
      "Error: 1216.67\n",
      "Factor A: 5386.11\n",
      "Factor B: 555.56\n",
      "AxB interaction: 386.11\n"
     ]
    }
   ]
  },
  {
   "cell_type": "markdown",
   "source": [
    "Using your results from the part above, fill out the table below for α = 0.05: Which hypotheses can you reject?\n",
    "\n",
    "| | Mean sum of squares (MSS) | F-statistic | F-critical |\n",
    "| --- | --- | --- | --- |\n",
    "| Factor A | | | |\n",
    "| Factor B | | | |\n",
    "| AxB interaction | | | |\n",
    "| Error (within cells) | | N/A | N/A |"
   ],
   "metadata": {
    "id": "Sqy2Em6u4nCc",
    "pycharm": {
     "name": "#%% md\n"
    }
   }
  },
  {
   "cell_type": "code",
   "source": [
    "# Use ss_results again - there's a lot in that data frame\n",
    "mss_factorA = ss_results['sum_sq']['C(treatment)']/ss_results['df']['C(treatment)']\n",
    "mss_factorB = ss_results['sum_sq']['C(sex)']/ss_results['df']['C(sex)']\n",
    "mss_AxB = ss_results['sum_sq']['C(treatment):C(sex)']/ss_results['df']['C(treatment):C(sex)']\n",
    "mss_error = ss_results['sum_sq']['Residual']/ss_results['df']['Residual']\n",
    "\n",
    "print('Mean sum of squares:')\n",
    "print('Factor A: %.2f' % mss_factorA)\n",
    "print('Factor B: %.2f' % mss_factorB)\n",
    "print('AxB interaction: %.2f' % mss_AxB)\n",
    "print('AxB interaction: %.2f' % mss_error)\n",
    "\n",
    "print('F-statistic:')\n",
    "print('Factor A: %.2f' % ss_results['F']['C(treatment)'])\n",
    "print('Factor B: %.2f' % ss_results['F']['C(sex)'])\n",
    "print('AxB interaction: %.2f' % ss_results['F']['C(treatment):C(sex)'])\n",
    "\n",
    "df_error = ss_results['df']['Residual']\n",
    "\n",
    "alpha = 0.05\n",
    "# Remember this function?\n",
    "f_factorA = stats.f.ppf(1-alpha,ss_results['df']['C(treatment)'],df_error)\n",
    "f_factorB = stats.f.ppf(1-alpha,ss_results['df']['C(sex)'],df_error)\n",
    "f_AxB = stats.f.ppf(1-alpha,ss_results['df']['C(treatment):C(sex)'],df_error)\n",
    "\n",
    "print('F-critical:')\n",
    "print('Factor A: %.2f' % f_factorA)\n",
    "print('Factor B: %.2f' % f_factorB)\n",
    "print('AxB interaction: %.2f' % f_AxB)"
   ],
   "metadata": {
    "colab": {
     "base_uri": "https://localhost:8080/"
    },
    "id": "nuqjdL944T-O",
    "executionInfo": {
     "status": "ok",
     "timestamp": 1640038816768,
     "user_tz": 360,
     "elapsed": 201,
     "user": {
      "displayName": "James Long",
      "photoUrl": "https://lh3.googleusercontent.com/a/default-user=s64",
      "userId": "02561479835225328505"
     }
    },
    "outputId": "bbe69dd8-eaf2-4ad3-f7e3-05754804b42d",
    "pycharm": {
     "name": "#%%\n"
    }
   },
   "execution_count": null,
   "outputs": [
    {
     "output_type": "stream",
     "name": "stdout",
     "text": [
      "Mean sum of squares:\n",
      "Factor A: 2693.06\n",
      "Factor B: 555.56\n",
      "AxB interaction: 193.06\n",
      "AxB interaction: 101.39\n",
      "F-statistic:\n",
      "Factor A: 26.56\n",
      "Factor B: 5.48\n",
      "AxB interaction: 1.90\n",
      "F-critical:\n",
      "Factor A: 3.89\n",
      "Factor B: 4.75\n",
      "AxB interaction: 3.89\n"
     ]
    }
   ]
  }
 ]
}