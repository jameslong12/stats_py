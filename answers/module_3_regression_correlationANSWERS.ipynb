{
 "nbformat": 4,
 "nbformat_minor": 0,
 "metadata": {
  "colab": {
   "name": "module_3_regression_correlationANSWERS.ipynb",
   "provenance": []
  },
  "kernelspec": {
   "name": "python3",
   "display_name": "Python 3"
  },
  "language_info": {
   "name": "python"
  }
 },
 "cells": [
  {
   "cell_type": "markdown",
   "source": [
    "# Module 3: Regression and correlation\n",
    "\n",
    "\n",
    "## Nonlinear regression\n",
    "\n",
    "The relative diffusivity (compared to water) of various sized solutes through a 5% agarose hydrogel was found experimentally. The experimental data is shown in the table below. As expected, the diffusivity through the porous hydrogel decreases as the size of the solute increases (radius = a). Our goal is to estimate the pore size of the hydrogel using the experiemental data."
   ],
   "metadata": {
    "id": "8diCy1-fQHZE",
    "pycharm": {
     "name": "#%% md\n"
    }
   }
  },
  {
   "cell_type": "code",
   "execution_count": 2,
   "metadata": {
    "colab": {
     "base_uri": "https://localhost:8080/"
    },
    "id": "PmnIDyOxT6zm",
    "executionInfo": {
     "status": "ok",
     "timestamp": 1643833198553,
     "user_tz": 300,
     "elapsed": 979,
     "user": {
      "displayName": "James Long",
      "photoUrl": "https://lh3.googleusercontent.com/a/default-user=s64",
      "userId": "02093697503503568617"
     }
    },
    "outputId": "ff8d6b43-c7c5-48da-ccba-1c414100e990",
    "pycharm": {
     "name": "#%%\n"
    }
   },
   "outputs": [
    {
     "output_type": "stream",
     "name": "stdout",
     "text": [
      "<class 'pandas.core.frame.DataFrame'>\n",
      "RangeIndex: 5 entries, 0 to 4\n",
      "Data columns (total 3 columns):\n",
      " #   Column  Non-Null Count  Dtype  \n",
      "---  ------  --------------  -----  \n",
      " 0   solute  5 non-null      object \n",
      " 1   radius  5 non-null      float64\n",
      " 2   Dratio  5 non-null      float64\n",
      "dtypes: float64(2), object(1)\n",
      "memory usage: 248.0+ bytes\n"
     ]
    }
   ],
   "source": [
    "import scipy.stats as stats\n",
    "from scipy.optimize import curve_fit  # New stats package!\n",
    "import numpy as np\n",
    "import plotly.graph_objects as go\n",
    "import pandas as pd\n",
    "\n",
    "df = pd.read_csv(\"https://raw.githubusercontent.com/jlongc12/stats_py/main/data/solute_data.csv\")\n",
    "df.info()"
   ]
  },
  {
   "cell_type": "markdown",
   "source": [
    "## Curve fitting\n",
    "The Renkin equation, shown below, describes diffusivity in terms of the pore size (r) and solute size (a). Use the curve fitting package from scipy to fit the data to the Renkin equation. What is the estimated pore size?\n",
    "\n",
    "$\\frac{D_{Gel}}{D_{H2O}} = \\Big(1-\\frac{a}{r}\\Big)^2\\left(1-2.1\\Big(\\frac{a}{r}\\Big)+2.09\\Big(\\frac{a}{r}\\Big)^3-0.95\\Big(\\frac{a}{r}\\Big)^5\\right)$\n",
    "\n"
   ],
   "metadata": {
    "id": "VMiL-fd5Qjr8",
    "pycharm": {
     "name": "#%% md\n"
    }
   }
  },
  {
   "cell_type": "code",
   "source": [
    "# Write a function that calculates diffusivity as a function of pore size and solute size\n",
    "def func(a,r):\n",
    "    return np.power(1-a/r,2)*(1-2.1*a/r+2.09*np.power(a/r,3)-0.95*np.power(a/r,5))\n",
    "\n",
    "# Use the new curve_fit function. What are the outputs? Check the documentation.\n",
    "r, rcov = curve_fit(func,df['radius'],df['Dratio'])\n",
    "r_nm = r*1e9\n",
    "\n",
    "print('Pore size: %.2f nm' % r_nm)"
   ],
   "metadata": {
    "id": "SStbG4cAfFAk",
    "executionInfo": {
     "status": "ok",
     "timestamp": 1643833202434,
     "user_tz": 300,
     "elapsed": 438,
     "user": {
      "displayName": "James Long",
      "photoUrl": "https://lh3.googleusercontent.com/a/default-user=s64",
      "userId": "02093697503503568617"
     }
    },
    "colab": {
     "base_uri": "https://localhost:8080/"
    },
    "outputId": "3ebc2a30-d470-4eeb-94c7-09fe4cb329b7",
    "pycharm": {
     "name": "#%%\n"
    }
   },
   "execution_count": 3,
   "outputs": [
    {
     "output_type": "stream",
     "name": "stdout",
     "text": [
      "Pore size: 659.57 nm\n"
     ]
    }
   ]
  },
  {
   "cell_type": "markdown",
   "source": [
    "Plot your fitted equation with the solute data provided. Is the Renkin equation a good fit?"
   ],
   "metadata": {
    "id": "teNrV_jVSwoJ",
    "pycharm": {
     "name": "#%% md\n"
    }
   }
  },
  {
   "cell_type": "code",
   "source": [
    "# Again, plotting can get complicated, so we've included the code for you. Note\n",
    "# how both plot types use the go.Scatter call, but with different 'mode' types.\n",
    "\n",
    "fig = go.Figure()\n",
    "fig.add_trace(go.Scatter(x=df['radius'],\n",
    "                         y=df['Dratio'],\n",
    "                         mode=\"markers\",\n",
    "                         name=\"data\"))    # Label your trace for the legend\n",
    "\n",
    "linex = np.linspace(3e-8,4e-7,100)        # use np.linspace to define a vector of x-values\n",
    "fig.add_trace(go.Scatter(x=linex,\n",
    "                         y=func(linex,r),\n",
    "                         mode=\"lines\",\n",
    "                         name=\"fit\"))\n",
    "fig.show()"
   ],
   "metadata": {
    "colab": {
     "base_uri": "https://localhost:8080/",
     "height": 542
    },
    "id": "5ACBRGLoS9dR",
    "executionInfo": {
     "status": "ok",
     "timestamp": 1640028362186,
     "user_tz": 360,
     "elapsed": 783,
     "user": {
      "displayName": "James Long",
      "photoUrl": "https://lh3.googleusercontent.com/a/default-user=s64",
      "userId": "02561479835225328505"
     }
    },
    "outputId": "5316d8fd-d6c3-4904-b6a3-201dc9daf829",
    "pycharm": {
     "name": "#%%\n"
    }
   },
   "execution_count": null,
   "outputs": [
    {
     "output_type": "display_data",
     "data": {
      "text/html": [
       "<html>\n",
       "<head><meta charset=\"utf-8\" /></head>\n",
       "<body>\n",
       "    <div>\n",
       "            <script src=\"https://cdnjs.cloudflare.com/ajax/libs/mathjax/2.7.5/MathJax.js?config=TeX-AMS-MML_SVG\"></script><script type=\"text/javascript\">if (window.MathJax) {MathJax.Hub.Config({SVG: {font: \"STIX-Web\"}});}</script>\n",
       "                <script type=\"text/javascript\">window.PlotlyConfig = {MathJaxConfig: 'local'};</script>\n",
       "        <script src=\"https://cdn.plot.ly/plotly-latest.min.js\"></script>    \n",
       "            <div id=\"a3c58673-9a94-4b94-bdb9-3386b8de2d8e\" class=\"plotly-graph-div\" style=\"height:525px; width:100%;\"></div>\n",
       "            <script type=\"text/javascript\">\n",
       "                \n",
       "                    window.PLOTLYENV=window.PLOTLYENV || {};\n",
       "                    \n",
       "                if (document.getElementById(\"a3c58673-9a94-4b94-bdb9-3386b8de2d8e\")) {\n",
       "                    Plotly.newPlot(\n",
       "                        'a3c58673-9a94-4b94-bdb9-3386b8de2d8e',\n",
       "                        [{\"mode\": \"markers\", \"name\": \"data\", \"type\": \"scatter\", \"x\": [3.71e-08, 6.98e-08, 1.69e-07, 2.69e-07, 3.4899999999999996e-07], \"y\": [0.778, 0.5529999999999999, 0.315, 0.126, 0.021]}, {\"mode\": \"lines\", \"name\": \"fit\", \"type\": \"scatter\", \"x\": [3e-08, 3.3737373737373735e-08, 3.747474747474747e-08, 4.1212121212121205e-08, 4.494949494949494e-08, 4.868686868686868e-08, 5.242424242424242e-08, 5.6161616161616156e-08, 5.98989898989899e-08, 6.363636363636363e-08, 6.737373737373737e-08, 7.111111111111111e-08, 7.484848484848483e-08, 7.858585858585857e-08, 8.232323232323231e-08, 8.606060606060605e-08, 8.979797979797978e-08, 9.353535353535352e-08, 9.727272727272726e-08, 1.01010101010101e-07, 1.0474747474747474e-07, 1.0848484848484847e-07, 1.1222222222222221e-07, 1.1595959595959595e-07, 1.196969696969697e-07, 1.2343434343434343e-07, 1.2717171717171716e-07, 1.309090909090909e-07, 1.3464646464646464e-07, 1.3838383838383838e-07, 1.4212121212121212e-07, 1.4585858585858585e-07, 1.495959595959596e-07, 1.5333333333333333e-07, 1.5707070707070707e-07, 1.608080808080808e-07, 1.6454545454545454e-07, 1.6828282828282828e-07, 1.7202020202020202e-07, 1.7575757575757576e-07, 1.794949494949495e-07, 1.8323232323232323e-07, 1.8696969696969697e-07, 1.907070707070707e-07, 1.9444444444444445e-07, 1.9818181818181819e-07, 2.0191919191919192e-07, 2.0565656565656566e-07, 2.0939393939393937e-07, 2.131313131313131e-07, 2.1686868686868685e-07, 2.2060606060606059e-07, 2.2434343434343432e-07, 2.2808080808080806e-07, 2.318181818181818e-07, 2.3555555555555554e-07, 2.3929292929292925e-07, 2.43030303030303e-07, 2.467676767676767e-07, 2.5050505050505046e-07, 2.542424242424242e-07, 2.5797979797979794e-07, 2.617171717171717e-07, 2.654545454545454e-07, 2.6919191919191915e-07, 2.729292929292929e-07, 2.7666666666666663e-07, 2.8040404040404037e-07, 2.841414141414141e-07, 2.8787878787878784e-07, 2.916161616161616e-07, 2.953535353535353e-07, 2.9909090909090906e-07, 3.028282828282828e-07, 3.0656565656565653e-07, 3.1030303030303027e-07, 3.14040404040404e-07, 3.1777777777777775e-07, 3.215151515151515e-07, 3.252525252525252e-07, 3.2898989898989896e-07, 3.327272727272727e-07, 3.3646464646464644e-07, 3.402020202020202e-07, 3.439393939393939e-07, 3.4767676767676765e-07, 3.514141414141414e-07, 3.551515151515151e-07, 3.5888888888888886e-07, 3.626262626262626e-07, 3.6636363636363634e-07, 3.701010101010101e-07, 3.738383838383838e-07, 3.7757575757575755e-07, 3.813131313131313e-07, 3.8505050505050503e-07, 3.887878787878787e-07, 3.9252525252525245e-07, 3.962626262626262e-07, 4e-07], \"y\": [0.8242546896101903, 0.8038590311124244, 0.7837930817948805, 0.7640558880897661, 0.7446464031536102, 0.7255634880930943, 0.7068059132262644, 0.6883723593782204, 0.6702614192103895, 0.6524715985824823, 0.635001317946235, 0.6178489137700405, 0.6010126399935681, 0.5844906695114764, 0.5682810956853188, 0.5523819338827457, 0.5367911230431047, 0.5215065272685405, 0.5065259374396954, 0.4918470728551167, 0.4774675828934662, 0.4633850486976404, 0.44959698487989885, 0.43610084124710546, 0.42289400454518206, 0.4099738002218798, 0.397337494206966, 0.3849822947089327, 0.372905354027326, 0.3611037703797985, 0.34957458974298944, 0.33831480770633, 0.32732137133788036, 0.31659118106129713, 0.3061210925430354, 0.29590791858888504, 0.28594843104894646, 0.2762393627301444, 0.26677740931538413, 0.25755923128845115, 0.2485814558637559, 0.23984067892002714, 0.23133346693705367, 0.2230563589345783, 0.21500586841244526, 0.20717848529110292, 0.1995706778515641, 0.19217889467392593, 0.18499956657355116, 0.17802910853401263, 0.17126392163590376, 0.16470039498061606, 0.15833490760818592, 0.1521638304083135, 0.14618352802365403, 0.1403903607444853, 0.13478068639385238, 0.12935086220229106, 0.12409724667123344, 0.1190162014241968, 0.11410409304485679, 0.10935729490110921, 0.10477218895422036, 0.10034516755216859, 0.09607263520628001, 0.0919510103502579, 0.08797672708071094, 0.0841462368782796, 0.08045601030846429, 0.07690253870125656, 0.07348233580867537, 0.07019193943931075, 0.06702791306897633, 0.06398684742657337, 0.0610653620542678, 0.05826010684108218, 0.055567763529005006, 0.05298504719071912, 0.050508707678051004, 0.04813553104024343, 0.04586234091115289, 0.043685999864474356, 0.041603410736094616, 0.03961151791267742, 0.03770730858558075, 0.03588781396920962, 0.034150110482905886, 0.03249132089547662, 0.030908615431463914, 0.02939921283825736, 0.027960381413151564, 0.02658943998945031, 0.02528375888072021, 0.024040760782294664, 0.022857921629131136, 0.021732771409122793, 0.020662894930967714, 0.01964593254569616, 0.018679580820959375, 0.017761593167180754]}],\n",
       "                        {\"template\": {\"data\": {\"bar\": [{\"error_x\": {\"color\": \"#2a3f5f\"}, \"error_y\": {\"color\": \"#2a3f5f\"}, \"marker\": {\"line\": {\"color\": \"#E5ECF6\", \"width\": 0.5}}, \"type\": \"bar\"}], \"barpolar\": [{\"marker\": {\"line\": {\"color\": \"#E5ECF6\", \"width\": 0.5}}, \"type\": \"barpolar\"}], \"carpet\": [{\"aaxis\": {\"endlinecolor\": \"#2a3f5f\", \"gridcolor\": \"white\", \"linecolor\": \"white\", \"minorgridcolor\": \"white\", \"startlinecolor\": \"#2a3f5f\"}, \"baxis\": {\"endlinecolor\": \"#2a3f5f\", \"gridcolor\": \"white\", \"linecolor\": \"white\", \"minorgridcolor\": \"white\", \"startlinecolor\": \"#2a3f5f\"}, \"type\": \"carpet\"}], \"choropleth\": [{\"colorbar\": {\"outlinewidth\": 0, \"ticks\": \"\"}, \"type\": \"choropleth\"}], \"contour\": [{\"colorbar\": {\"outlinewidth\": 0, \"ticks\": \"\"}, \"colorscale\": [[0.0, \"#0d0887\"], [0.1111111111111111, \"#46039f\"], [0.2222222222222222, \"#7201a8\"], [0.3333333333333333, \"#9c179e\"], [0.4444444444444444, \"#bd3786\"], [0.5555555555555556, \"#d8576b\"], [0.6666666666666666, \"#ed7953\"], [0.7777777777777778, \"#fb9f3a\"], [0.8888888888888888, \"#fdca26\"], [1.0, \"#f0f921\"]], \"type\": \"contour\"}], \"contourcarpet\": [{\"colorbar\": {\"outlinewidth\": 0, \"ticks\": \"\"}, \"type\": \"contourcarpet\"}], \"heatmap\": [{\"colorbar\": {\"outlinewidth\": 0, \"ticks\": \"\"}, \"colorscale\": [[0.0, \"#0d0887\"], [0.1111111111111111, \"#46039f\"], [0.2222222222222222, \"#7201a8\"], [0.3333333333333333, \"#9c179e\"], [0.4444444444444444, \"#bd3786\"], [0.5555555555555556, \"#d8576b\"], [0.6666666666666666, \"#ed7953\"], [0.7777777777777778, \"#fb9f3a\"], [0.8888888888888888, \"#fdca26\"], [1.0, \"#f0f921\"]], \"type\": \"heatmap\"}], \"heatmapgl\": [{\"colorbar\": {\"outlinewidth\": 0, \"ticks\": \"\"}, \"colorscale\": [[0.0, \"#0d0887\"], [0.1111111111111111, \"#46039f\"], [0.2222222222222222, \"#7201a8\"], [0.3333333333333333, \"#9c179e\"], [0.4444444444444444, \"#bd3786\"], [0.5555555555555556, \"#d8576b\"], [0.6666666666666666, \"#ed7953\"], [0.7777777777777778, \"#fb9f3a\"], [0.8888888888888888, \"#fdca26\"], [1.0, \"#f0f921\"]], \"type\": \"heatmapgl\"}], \"histogram\": [{\"marker\": {\"colorbar\": {\"outlinewidth\": 0, \"ticks\": \"\"}}, \"type\": \"histogram\"}], \"histogram2d\": [{\"colorbar\": {\"outlinewidth\": 0, \"ticks\": \"\"}, \"colorscale\": [[0.0, \"#0d0887\"], [0.1111111111111111, \"#46039f\"], [0.2222222222222222, \"#7201a8\"], [0.3333333333333333, \"#9c179e\"], [0.4444444444444444, \"#bd3786\"], [0.5555555555555556, \"#d8576b\"], [0.6666666666666666, \"#ed7953\"], [0.7777777777777778, \"#fb9f3a\"], [0.8888888888888888, \"#fdca26\"], [1.0, \"#f0f921\"]], \"type\": \"histogram2d\"}], \"histogram2dcontour\": [{\"colorbar\": {\"outlinewidth\": 0, \"ticks\": \"\"}, \"colorscale\": [[0.0, \"#0d0887\"], [0.1111111111111111, \"#46039f\"], [0.2222222222222222, \"#7201a8\"], [0.3333333333333333, \"#9c179e\"], [0.4444444444444444, \"#bd3786\"], [0.5555555555555556, \"#d8576b\"], [0.6666666666666666, \"#ed7953\"], [0.7777777777777778, \"#fb9f3a\"], [0.8888888888888888, \"#fdca26\"], [1.0, \"#f0f921\"]], \"type\": \"histogram2dcontour\"}], \"mesh3d\": [{\"colorbar\": {\"outlinewidth\": 0, \"ticks\": \"\"}, \"type\": \"mesh3d\"}], \"parcoords\": [{\"line\": {\"colorbar\": {\"outlinewidth\": 0, \"ticks\": \"\"}}, \"type\": \"parcoords\"}], \"pie\": [{\"automargin\": true, \"type\": \"pie\"}], \"scatter\": [{\"marker\": {\"colorbar\": {\"outlinewidth\": 0, \"ticks\": \"\"}}, \"type\": \"scatter\"}], \"scatter3d\": [{\"line\": {\"colorbar\": {\"outlinewidth\": 0, \"ticks\": \"\"}}, \"marker\": {\"colorbar\": {\"outlinewidth\": 0, \"ticks\": \"\"}}, \"type\": \"scatter3d\"}], \"scattercarpet\": [{\"marker\": {\"colorbar\": {\"outlinewidth\": 0, \"ticks\": \"\"}}, \"type\": \"scattercarpet\"}], \"scattergeo\": [{\"marker\": {\"colorbar\": {\"outlinewidth\": 0, \"ticks\": \"\"}}, \"type\": \"scattergeo\"}], \"scattergl\": [{\"marker\": {\"colorbar\": {\"outlinewidth\": 0, \"ticks\": \"\"}}, \"type\": \"scattergl\"}], \"scattermapbox\": [{\"marker\": {\"colorbar\": {\"outlinewidth\": 0, \"ticks\": \"\"}}, \"type\": \"scattermapbox\"}], \"scatterpolar\": [{\"marker\": {\"colorbar\": {\"outlinewidth\": 0, \"ticks\": \"\"}}, \"type\": \"scatterpolar\"}], \"scatterpolargl\": [{\"marker\": {\"colorbar\": {\"outlinewidth\": 0, \"ticks\": \"\"}}, \"type\": \"scatterpolargl\"}], \"scatterternary\": [{\"marker\": {\"colorbar\": {\"outlinewidth\": 0, \"ticks\": \"\"}}, \"type\": \"scatterternary\"}], \"surface\": [{\"colorbar\": {\"outlinewidth\": 0, \"ticks\": \"\"}, \"colorscale\": [[0.0, \"#0d0887\"], [0.1111111111111111, \"#46039f\"], [0.2222222222222222, \"#7201a8\"], [0.3333333333333333, \"#9c179e\"], [0.4444444444444444, \"#bd3786\"], [0.5555555555555556, \"#d8576b\"], [0.6666666666666666, \"#ed7953\"], [0.7777777777777778, \"#fb9f3a\"], [0.8888888888888888, \"#fdca26\"], [1.0, \"#f0f921\"]], \"type\": \"surface\"}], \"table\": [{\"cells\": {\"fill\": {\"color\": \"#EBF0F8\"}, \"line\": {\"color\": \"white\"}}, \"header\": {\"fill\": {\"color\": \"#C8D4E3\"}, \"line\": {\"color\": \"white\"}}, \"type\": \"table\"}]}, \"layout\": {\"annotationdefaults\": {\"arrowcolor\": \"#2a3f5f\", \"arrowhead\": 0, \"arrowwidth\": 1}, \"coloraxis\": {\"colorbar\": {\"outlinewidth\": 0, \"ticks\": \"\"}}, \"colorscale\": {\"diverging\": [[0, \"#8e0152\"], [0.1, \"#c51b7d\"], [0.2, \"#de77ae\"], [0.3, \"#f1b6da\"], [0.4, \"#fde0ef\"], [0.5, \"#f7f7f7\"], [0.6, \"#e6f5d0\"], [0.7, \"#b8e186\"], [0.8, \"#7fbc41\"], [0.9, \"#4d9221\"], [1, \"#276419\"]], \"sequential\": [[0.0, \"#0d0887\"], [0.1111111111111111, \"#46039f\"], [0.2222222222222222, \"#7201a8\"], [0.3333333333333333, \"#9c179e\"], [0.4444444444444444, \"#bd3786\"], [0.5555555555555556, \"#d8576b\"], [0.6666666666666666, \"#ed7953\"], [0.7777777777777778, \"#fb9f3a\"], [0.8888888888888888, \"#fdca26\"], [1.0, \"#f0f921\"]], \"sequentialminus\": [[0.0, \"#0d0887\"], [0.1111111111111111, \"#46039f\"], [0.2222222222222222, \"#7201a8\"], [0.3333333333333333, \"#9c179e\"], [0.4444444444444444, \"#bd3786\"], [0.5555555555555556, \"#d8576b\"], [0.6666666666666666, \"#ed7953\"], [0.7777777777777778, \"#fb9f3a\"], [0.8888888888888888, \"#fdca26\"], [1.0, \"#f0f921\"]]}, \"colorway\": [\"#636efa\", \"#EF553B\", \"#00cc96\", \"#ab63fa\", \"#FFA15A\", \"#19d3f3\", \"#FF6692\", \"#B6E880\", \"#FF97FF\", \"#FECB52\"], \"font\": {\"color\": \"#2a3f5f\"}, \"geo\": {\"bgcolor\": \"white\", \"lakecolor\": \"white\", \"landcolor\": \"#E5ECF6\", \"showlakes\": true, \"showland\": true, \"subunitcolor\": \"white\"}, \"hoverlabel\": {\"align\": \"left\"}, \"hovermode\": \"closest\", \"mapbox\": {\"style\": \"light\"}, \"paper_bgcolor\": \"white\", \"plot_bgcolor\": \"#E5ECF6\", \"polar\": {\"angularaxis\": {\"gridcolor\": \"white\", \"linecolor\": \"white\", \"ticks\": \"\"}, \"bgcolor\": \"#E5ECF6\", \"radialaxis\": {\"gridcolor\": \"white\", \"linecolor\": \"white\", \"ticks\": \"\"}}, \"scene\": {\"xaxis\": {\"backgroundcolor\": \"#E5ECF6\", \"gridcolor\": \"white\", \"gridwidth\": 2, \"linecolor\": \"white\", \"showbackground\": true, \"ticks\": \"\", \"zerolinecolor\": \"white\"}, \"yaxis\": {\"backgroundcolor\": \"#E5ECF6\", \"gridcolor\": \"white\", \"gridwidth\": 2, \"linecolor\": \"white\", \"showbackground\": true, \"ticks\": \"\", \"zerolinecolor\": \"white\"}, \"zaxis\": {\"backgroundcolor\": \"#E5ECF6\", \"gridcolor\": \"white\", \"gridwidth\": 2, \"linecolor\": \"white\", \"showbackground\": true, \"ticks\": \"\", \"zerolinecolor\": \"white\"}}, \"shapedefaults\": {\"line\": {\"color\": \"#2a3f5f\"}}, \"ternary\": {\"aaxis\": {\"gridcolor\": \"white\", \"linecolor\": \"white\", \"ticks\": \"\"}, \"baxis\": {\"gridcolor\": \"white\", \"linecolor\": \"white\", \"ticks\": \"\"}, \"bgcolor\": \"#E5ECF6\", \"caxis\": {\"gridcolor\": \"white\", \"linecolor\": \"white\", \"ticks\": \"\"}}, \"title\": {\"x\": 0.05}, \"xaxis\": {\"automargin\": true, \"gridcolor\": \"white\", \"linecolor\": \"white\", \"ticks\": \"\", \"title\": {\"standoff\": 15}, \"zerolinecolor\": \"white\", \"zerolinewidth\": 2}, \"yaxis\": {\"automargin\": true, \"gridcolor\": \"white\", \"linecolor\": \"white\", \"ticks\": \"\", \"title\": {\"standoff\": 15}, \"zerolinecolor\": \"white\", \"zerolinewidth\": 2}}}},\n",
       "                        {\"responsive\": true}\n",
       "                    ).then(function(){\n",
       "                            \n",
       "var gd = document.getElementById('a3c58673-9a94-4b94-bdb9-3386b8de2d8e');\n",
       "var x = new MutationObserver(function (mutations, observer) {{\n",
       "        var display = window.getComputedStyle(gd).display;\n",
       "        if (!display || display === 'none') {{\n",
       "            console.log([gd, 'removed!']);\n",
       "            Plotly.purge(gd);\n",
       "            observer.disconnect();\n",
       "        }}\n",
       "}});\n",
       "\n",
       "// Listen for the removal of the full notebook cells\n",
       "var notebookContainer = gd.closest('#notebook-container');\n",
       "if (notebookContainer) {{\n",
       "    x.observe(notebookContainer, {childList: true});\n",
       "}}\n",
       "\n",
       "// Listen for the clearing of the current output cell\n",
       "var outputEl = gd.closest('.output');\n",
       "if (outputEl) {{\n",
       "    x.observe(outputEl, {childList: true});\n",
       "}}\n",
       "\n",
       "                        })\n",
       "                };\n",
       "                \n",
       "            </script>\n",
       "        </div>\n",
       "</body>\n",
       "</html>"
      ]
     },
     "metadata": {}
    }
   ]
  },
  {
   "cell_type": "markdown",
   "source": [
    "## Residuals\n",
    "\n",
    "Calculate and plot the residuals for each data point. What does this plot tell us about the fit? Verify your answer by calculating the R2 value."
   ],
   "metadata": {
    "id": "FQiv_JD4Sn0Y",
    "pycharm": {
     "name": "#%% md\n"
    }
   }
  },
  {
   "cell_type": "code",
   "source": [
    "Dratio_fit = func(df['radius'],r)\n",
    "residuals = df['Dratio']-Dratio_fit\n",
    "\n",
    "fig = go.Figure()\n",
    "fig.add_trace(go.Scatter(x=df['radius'],\n",
    "                         y=residuals,\n",
    "                         mode=\"markers\"))\n",
    "fig.show()\n",
    "\n",
    "# There's a couple steps here. Check your work!\n",
    "sse = np.sum(np.square(residuals))\n",
    "solute_mean = np.mean(df['Dratio'])\n",
    "sst = np.sum(np.square(df['Dratio']-df['Dratio'].mean()))\n",
    "R2 = 1-sse/sst\n",
    "print('R2: %.2f' % R2)"
   ],
   "metadata": {
    "colab": {
     "base_uri": "https://localhost:8080/",
     "height": 559
    },
    "id": "mU4Lfq-bgcRO",
    "executionInfo": {
     "status": "ok",
     "timestamp": 1640029923291,
     "user_tz": 360,
     "elapsed": 475,
     "user": {
      "displayName": "James Long",
      "photoUrl": "https://lh3.googleusercontent.com/a/default-user=s64",
      "userId": "02561479835225328505"
     }
    },
    "outputId": "31e58bd5-b6d8-432a-c941-03c4a852fbe1",
    "pycharm": {
     "name": "#%%\n"
    }
   },
   "execution_count": null,
   "outputs": [
    {
     "output_type": "display_data",
     "data": {
      "text/html": [
       "<html>\n",
       "<head><meta charset=\"utf-8\" /></head>\n",
       "<body>\n",
       "    <div>\n",
       "            <script src=\"https://cdnjs.cloudflare.com/ajax/libs/mathjax/2.7.5/MathJax.js?config=TeX-AMS-MML_SVG\"></script><script type=\"text/javascript\">if (window.MathJax) {MathJax.Hub.Config({SVG: {font: \"STIX-Web\"}});}</script>\n",
       "                <script type=\"text/javascript\">window.PlotlyConfig = {MathJaxConfig: 'local'};</script>\n",
       "        <script src=\"https://cdn.plot.ly/plotly-latest.min.js\"></script>    \n",
       "            <div id=\"6556c913-dc8b-4120-ad93-d77eb52be5c9\" class=\"plotly-graph-div\" style=\"height:525px; width:100%;\"></div>\n",
       "            <script type=\"text/javascript\">\n",
       "                \n",
       "                    window.PLOTLYENV=window.PLOTLYENV || {};\n",
       "                    \n",
       "                if (document.getElementById(\"6556c913-dc8b-4120-ad93-d77eb52be5c9\")) {\n",
       "                    Plotly.newPlot(\n",
       "                        '6556c913-dc8b-4120-ad93-d77eb52be5c9',\n",
       "                        [{\"mode\": \"markers\", \"type\": \"scatter\", \"x\": [3.71e-08, 6.98e-08, 1.69e-07, 2.69e-07, 3.4899999999999996e-07], \"y\": [-0.007790253912086542, -0.07083007315546064, 0.04059536699759603, 0.029711670677263574, -0.014263369693555229]}],\n",
       "                        {\"template\": {\"data\": {\"bar\": [{\"error_x\": {\"color\": \"#2a3f5f\"}, \"error_y\": {\"color\": \"#2a3f5f\"}, \"marker\": {\"line\": {\"color\": \"#E5ECF6\", \"width\": 0.5}}, \"type\": \"bar\"}], \"barpolar\": [{\"marker\": {\"line\": {\"color\": \"#E5ECF6\", \"width\": 0.5}}, \"type\": \"barpolar\"}], \"carpet\": [{\"aaxis\": {\"endlinecolor\": \"#2a3f5f\", \"gridcolor\": \"white\", \"linecolor\": \"white\", \"minorgridcolor\": \"white\", \"startlinecolor\": \"#2a3f5f\"}, \"baxis\": {\"endlinecolor\": \"#2a3f5f\", \"gridcolor\": \"white\", \"linecolor\": \"white\", \"minorgridcolor\": \"white\", \"startlinecolor\": \"#2a3f5f\"}, \"type\": \"carpet\"}], \"choropleth\": [{\"colorbar\": {\"outlinewidth\": 0, \"ticks\": \"\"}, \"type\": \"choropleth\"}], \"contour\": [{\"colorbar\": {\"outlinewidth\": 0, \"ticks\": \"\"}, \"colorscale\": [[0.0, \"#0d0887\"], [0.1111111111111111, \"#46039f\"], [0.2222222222222222, \"#7201a8\"], [0.3333333333333333, \"#9c179e\"], [0.4444444444444444, \"#bd3786\"], [0.5555555555555556, \"#d8576b\"], [0.6666666666666666, \"#ed7953\"], [0.7777777777777778, \"#fb9f3a\"], [0.8888888888888888, \"#fdca26\"], [1.0, \"#f0f921\"]], \"type\": \"contour\"}], \"contourcarpet\": [{\"colorbar\": {\"outlinewidth\": 0, \"ticks\": \"\"}, \"type\": \"contourcarpet\"}], \"heatmap\": [{\"colorbar\": {\"outlinewidth\": 0, \"ticks\": \"\"}, \"colorscale\": [[0.0, \"#0d0887\"], [0.1111111111111111, \"#46039f\"], [0.2222222222222222, \"#7201a8\"], [0.3333333333333333, \"#9c179e\"], [0.4444444444444444, \"#bd3786\"], [0.5555555555555556, \"#d8576b\"], [0.6666666666666666, \"#ed7953\"], [0.7777777777777778, \"#fb9f3a\"], [0.8888888888888888, \"#fdca26\"], [1.0, \"#f0f921\"]], \"type\": \"heatmap\"}], \"heatmapgl\": [{\"colorbar\": {\"outlinewidth\": 0, \"ticks\": \"\"}, \"colorscale\": [[0.0, \"#0d0887\"], [0.1111111111111111, \"#46039f\"], [0.2222222222222222, \"#7201a8\"], [0.3333333333333333, \"#9c179e\"], [0.4444444444444444, \"#bd3786\"], [0.5555555555555556, \"#d8576b\"], [0.6666666666666666, \"#ed7953\"], [0.7777777777777778, \"#fb9f3a\"], [0.8888888888888888, \"#fdca26\"], [1.0, \"#f0f921\"]], \"type\": \"heatmapgl\"}], \"histogram\": [{\"marker\": {\"colorbar\": {\"outlinewidth\": 0, \"ticks\": \"\"}}, \"type\": \"histogram\"}], \"histogram2d\": [{\"colorbar\": {\"outlinewidth\": 0, \"ticks\": \"\"}, \"colorscale\": [[0.0, \"#0d0887\"], [0.1111111111111111, \"#46039f\"], [0.2222222222222222, \"#7201a8\"], [0.3333333333333333, \"#9c179e\"], [0.4444444444444444, \"#bd3786\"], [0.5555555555555556, \"#d8576b\"], [0.6666666666666666, \"#ed7953\"], [0.7777777777777778, \"#fb9f3a\"], [0.8888888888888888, \"#fdca26\"], [1.0, \"#f0f921\"]], \"type\": \"histogram2d\"}], \"histogram2dcontour\": [{\"colorbar\": {\"outlinewidth\": 0, \"ticks\": \"\"}, \"colorscale\": [[0.0, \"#0d0887\"], [0.1111111111111111, \"#46039f\"], [0.2222222222222222, \"#7201a8\"], [0.3333333333333333, \"#9c179e\"], [0.4444444444444444, \"#bd3786\"], [0.5555555555555556, \"#d8576b\"], [0.6666666666666666, \"#ed7953\"], [0.7777777777777778, \"#fb9f3a\"], [0.8888888888888888, \"#fdca26\"], [1.0, \"#f0f921\"]], \"type\": \"histogram2dcontour\"}], \"mesh3d\": [{\"colorbar\": {\"outlinewidth\": 0, \"ticks\": \"\"}, \"type\": \"mesh3d\"}], \"parcoords\": [{\"line\": {\"colorbar\": {\"outlinewidth\": 0, \"ticks\": \"\"}}, \"type\": \"parcoords\"}], \"pie\": [{\"automargin\": true, \"type\": \"pie\"}], \"scatter\": [{\"marker\": {\"colorbar\": {\"outlinewidth\": 0, \"ticks\": \"\"}}, \"type\": \"scatter\"}], \"scatter3d\": [{\"line\": {\"colorbar\": {\"outlinewidth\": 0, \"ticks\": \"\"}}, \"marker\": {\"colorbar\": {\"outlinewidth\": 0, \"ticks\": \"\"}}, \"type\": \"scatter3d\"}], \"scattercarpet\": [{\"marker\": {\"colorbar\": {\"outlinewidth\": 0, \"ticks\": \"\"}}, \"type\": \"scattercarpet\"}], \"scattergeo\": [{\"marker\": {\"colorbar\": {\"outlinewidth\": 0, \"ticks\": \"\"}}, \"type\": \"scattergeo\"}], \"scattergl\": [{\"marker\": {\"colorbar\": {\"outlinewidth\": 0, \"ticks\": \"\"}}, \"type\": \"scattergl\"}], \"scattermapbox\": [{\"marker\": {\"colorbar\": {\"outlinewidth\": 0, \"ticks\": \"\"}}, \"type\": \"scattermapbox\"}], \"scatterpolar\": [{\"marker\": {\"colorbar\": {\"outlinewidth\": 0, \"ticks\": \"\"}}, \"type\": \"scatterpolar\"}], \"scatterpolargl\": [{\"marker\": {\"colorbar\": {\"outlinewidth\": 0, \"ticks\": \"\"}}, \"type\": \"scatterpolargl\"}], \"scatterternary\": [{\"marker\": {\"colorbar\": {\"outlinewidth\": 0, \"ticks\": \"\"}}, \"type\": \"scatterternary\"}], \"surface\": [{\"colorbar\": {\"outlinewidth\": 0, \"ticks\": \"\"}, \"colorscale\": [[0.0, \"#0d0887\"], [0.1111111111111111, \"#46039f\"], [0.2222222222222222, \"#7201a8\"], [0.3333333333333333, \"#9c179e\"], [0.4444444444444444, \"#bd3786\"], [0.5555555555555556, \"#d8576b\"], [0.6666666666666666, \"#ed7953\"], [0.7777777777777778, \"#fb9f3a\"], [0.8888888888888888, \"#fdca26\"], [1.0, \"#f0f921\"]], \"type\": \"surface\"}], \"table\": [{\"cells\": {\"fill\": {\"color\": \"#EBF0F8\"}, \"line\": {\"color\": \"white\"}}, \"header\": {\"fill\": {\"color\": \"#C8D4E3\"}, \"line\": {\"color\": \"white\"}}, \"type\": \"table\"}]}, \"layout\": {\"annotationdefaults\": {\"arrowcolor\": \"#2a3f5f\", \"arrowhead\": 0, \"arrowwidth\": 1}, \"coloraxis\": {\"colorbar\": {\"outlinewidth\": 0, \"ticks\": \"\"}}, \"colorscale\": {\"diverging\": [[0, \"#8e0152\"], [0.1, \"#c51b7d\"], [0.2, \"#de77ae\"], [0.3, \"#f1b6da\"], [0.4, \"#fde0ef\"], [0.5, \"#f7f7f7\"], [0.6, \"#e6f5d0\"], [0.7, \"#b8e186\"], [0.8, \"#7fbc41\"], [0.9, \"#4d9221\"], [1, \"#276419\"]], \"sequential\": [[0.0, \"#0d0887\"], [0.1111111111111111, \"#46039f\"], [0.2222222222222222, \"#7201a8\"], [0.3333333333333333, \"#9c179e\"], [0.4444444444444444, \"#bd3786\"], [0.5555555555555556, \"#d8576b\"], [0.6666666666666666, \"#ed7953\"], [0.7777777777777778, \"#fb9f3a\"], [0.8888888888888888, \"#fdca26\"], [1.0, \"#f0f921\"]], \"sequentialminus\": [[0.0, \"#0d0887\"], [0.1111111111111111, \"#46039f\"], [0.2222222222222222, \"#7201a8\"], [0.3333333333333333, \"#9c179e\"], [0.4444444444444444, \"#bd3786\"], [0.5555555555555556, \"#d8576b\"], [0.6666666666666666, \"#ed7953\"], [0.7777777777777778, \"#fb9f3a\"], [0.8888888888888888, \"#fdca26\"], [1.0, \"#f0f921\"]]}, \"colorway\": [\"#636efa\", \"#EF553B\", \"#00cc96\", \"#ab63fa\", \"#FFA15A\", \"#19d3f3\", \"#FF6692\", \"#B6E880\", \"#FF97FF\", \"#FECB52\"], \"font\": {\"color\": \"#2a3f5f\"}, \"geo\": {\"bgcolor\": \"white\", \"lakecolor\": \"white\", \"landcolor\": \"#E5ECF6\", \"showlakes\": true, \"showland\": true, \"subunitcolor\": \"white\"}, \"hoverlabel\": {\"align\": \"left\"}, \"hovermode\": \"closest\", \"mapbox\": {\"style\": \"light\"}, \"paper_bgcolor\": \"white\", \"plot_bgcolor\": \"#E5ECF6\", \"polar\": {\"angularaxis\": {\"gridcolor\": \"white\", \"linecolor\": \"white\", \"ticks\": \"\"}, \"bgcolor\": \"#E5ECF6\", \"radialaxis\": {\"gridcolor\": \"white\", \"linecolor\": \"white\", \"ticks\": \"\"}}, \"scene\": {\"xaxis\": {\"backgroundcolor\": \"#E5ECF6\", \"gridcolor\": \"white\", \"gridwidth\": 2, \"linecolor\": \"white\", \"showbackground\": true, \"ticks\": \"\", \"zerolinecolor\": \"white\"}, \"yaxis\": {\"backgroundcolor\": \"#E5ECF6\", \"gridcolor\": \"white\", \"gridwidth\": 2, \"linecolor\": \"white\", \"showbackground\": true, \"ticks\": \"\", \"zerolinecolor\": \"white\"}, \"zaxis\": {\"backgroundcolor\": \"#E5ECF6\", \"gridcolor\": \"white\", \"gridwidth\": 2, \"linecolor\": \"white\", \"showbackground\": true, \"ticks\": \"\", \"zerolinecolor\": \"white\"}}, \"shapedefaults\": {\"line\": {\"color\": \"#2a3f5f\"}}, \"ternary\": {\"aaxis\": {\"gridcolor\": \"white\", \"linecolor\": \"white\", \"ticks\": \"\"}, \"baxis\": {\"gridcolor\": \"white\", \"linecolor\": \"white\", \"ticks\": \"\"}, \"bgcolor\": \"#E5ECF6\", \"caxis\": {\"gridcolor\": \"white\", \"linecolor\": \"white\", \"ticks\": \"\"}}, \"title\": {\"x\": 0.05}, \"xaxis\": {\"automargin\": true, \"gridcolor\": \"white\", \"linecolor\": \"white\", \"ticks\": \"\", \"title\": {\"standoff\": 15}, \"zerolinecolor\": \"white\", \"zerolinewidth\": 2}, \"yaxis\": {\"automargin\": true, \"gridcolor\": \"white\", \"linecolor\": \"white\", \"ticks\": \"\", \"title\": {\"standoff\": 15}, \"zerolinecolor\": \"white\", \"zerolinewidth\": 2}}}},\n",
       "                        {\"responsive\": true}\n",
       "                    ).then(function(){\n",
       "                            \n",
       "var gd = document.getElementById('6556c913-dc8b-4120-ad93-d77eb52be5c9');\n",
       "var x = new MutationObserver(function (mutations, observer) {{\n",
       "        var display = window.getComputedStyle(gd).display;\n",
       "        if (!display || display === 'none') {{\n",
       "            console.log([gd, 'removed!']);\n",
       "            Plotly.purge(gd);\n",
       "            observer.disconnect();\n",
       "        }}\n",
       "}});\n",
       "\n",
       "// Listen for the removal of the full notebook cells\n",
       "var notebookContainer = gd.closest('#notebook-container');\n",
       "if (notebookContainer) {{\n",
       "    x.observe(notebookContainer, {childList: true});\n",
       "}}\n",
       "\n",
       "// Listen for the clearing of the current output cell\n",
       "var outputEl = gd.closest('.output');\n",
       "if (outputEl) {{\n",
       "    x.observe(outputEl, {childList: true});\n",
       "}}\n",
       "\n",
       "                        })\n",
       "                };\n",
       "                \n",
       "            </script>\n",
       "        </div>\n",
       "</body>\n",
       "</html>"
      ]
     },
     "metadata": {}
    },
    {
     "output_type": "stream",
     "name": "stdout",
     "text": [
      "R2: 0.98\n"
     ]
    }
   ]
  },
  {
   "cell_type": "markdown",
   "source": [
    "Calculate the 95% confidence interval for your fitted variable, r. Plot the 95% prediction bounds of your fit. What do these bounds indicate?\n",
    "\n"
   ],
   "metadata": {
    "id": "S1NGR-IeUWN9",
    "pycharm": {
     "name": "#%% md\n"
    }
   }
  },
  {
   "cell_type": "code",
   "source": [
    "# It's not immediately obvious how to get the standard deviation, so we've included it here.\n",
    "# Use this to find your upper and lower bounds. Hint: you will need stats.t.ppf\n",
    "s = np.sqrt(np.diag(rcov))\n",
    "dof = len(df['Dratio'])-1\n",
    "alpha = 0.05\n",
    "tval = stats.t.ppf(1-alpha/2, dof) \n",
    "rlow = r-s*tval\n",
    "rhigh = r+s*tval\n",
    "\n",
    "fig = go.Figure()\n",
    "fig.add_trace(go.Scatter(x=df['radius'],\n",
    "                         y=df['Dratio'],\n",
    "                         mode=\"markers\",\n",
    "                         name=\"data\"))\n",
    "\n",
    "linex = np.linspace(3e-8,4e-7,100)\n",
    "fig.add_trace(go.Scatter(x=linex,\n",
    "                         y=func(linex,r),\n",
    "                         mode=\"lines\",\n",
    "                         name=\"fit\"))\n",
    "\n",
    "# Repeat the block above for your low and high bounds for r\n",
    "linex = np.linspace(3e-8,4e-7,100)\n",
    "fig.add_trace(go.Scatter(x=linex,\n",
    "                         y=func(linex,rlow),\n",
    "                         mode=\"lines\",\n",
    "                         name=\"lower prediction\"))\n",
    "\n",
    "linex = np.linspace(3e-8,4e-7,100)\n",
    "fig.add_trace(go.Scatter(x=linex,\n",
    "                         y=func(linex,rhigh),\n",
    "                         mode=\"lines\",\n",
    "                         name=\"upper prediction\"))\n",
    "fig.show()"
   ],
   "metadata": {
    "colab": {
     "base_uri": "https://localhost:8080/",
     "height": 542
    },
    "id": "9rbQI7iJWmkB",
    "executionInfo": {
     "status": "ok",
     "timestamp": 1640030058829,
     "user_tz": 360,
     "elapsed": 640,
     "user": {
      "displayName": "James Long",
      "photoUrl": "https://lh3.googleusercontent.com/a/default-user=s64",
      "userId": "02561479835225328505"
     }
    },
    "outputId": "3488c024-ac0d-489f-f16a-b360dbe74617",
    "pycharm": {
     "name": "#%%\n"
    }
   },
   "execution_count": null,
   "outputs": [
    {
     "output_type": "display_data",
     "data": {
      "text/html": [
       "<html>\n",
       "<head><meta charset=\"utf-8\" /></head>\n",
       "<body>\n",
       "    <div>\n",
       "            <script src=\"https://cdnjs.cloudflare.com/ajax/libs/mathjax/2.7.5/MathJax.js?config=TeX-AMS-MML_SVG\"></script><script type=\"text/javascript\">if (window.MathJax) {MathJax.Hub.Config({SVG: {font: \"STIX-Web\"}});}</script>\n",
       "                <script type=\"text/javascript\">window.PlotlyConfig = {MathJaxConfig: 'local'};</script>\n",
       "        <script src=\"https://cdn.plot.ly/plotly-latest.min.js\"></script>    \n",
       "            <div id=\"420bd228-a777-49b9-bc86-e962a0e943f4\" class=\"plotly-graph-div\" style=\"height:525px; width:100%;\"></div>\n",
       "            <script type=\"text/javascript\">\n",
       "                \n",
       "                    window.PLOTLYENV=window.PLOTLYENV || {};\n",
       "                    \n",
       "                if (document.getElementById(\"420bd228-a777-49b9-bc86-e962a0e943f4\")) {\n",
       "                    Plotly.newPlot(\n",
       "                        '420bd228-a777-49b9-bc86-e962a0e943f4',\n",
       "                        [{\"mode\": \"markers\", \"name\": \"data\", \"type\": \"scatter\", \"x\": [3.71e-08, 6.98e-08, 1.69e-07, 2.69e-07, 3.4899999999999996e-07], \"y\": [0.778, 0.5529999999999999, 0.315, 0.126, 0.021]}, {\"mode\": \"lines\", \"name\": \"fit\", \"type\": \"scatter\", \"x\": [3e-08, 3.3737373737373735e-08, 3.747474747474747e-08, 4.1212121212121205e-08, 4.494949494949494e-08, 4.868686868686868e-08, 5.242424242424242e-08, 5.6161616161616156e-08, 5.98989898989899e-08, 6.363636363636363e-08, 6.737373737373737e-08, 7.111111111111111e-08, 7.484848484848483e-08, 7.858585858585857e-08, 8.232323232323231e-08, 8.606060606060605e-08, 8.979797979797978e-08, 9.353535353535352e-08, 9.727272727272726e-08, 1.01010101010101e-07, 1.0474747474747474e-07, 1.0848484848484847e-07, 1.1222222222222221e-07, 1.1595959595959595e-07, 1.196969696969697e-07, 1.2343434343434343e-07, 1.2717171717171716e-07, 1.309090909090909e-07, 1.3464646464646464e-07, 1.3838383838383838e-07, 1.4212121212121212e-07, 1.4585858585858585e-07, 1.495959595959596e-07, 1.5333333333333333e-07, 1.5707070707070707e-07, 1.608080808080808e-07, 1.6454545454545454e-07, 1.6828282828282828e-07, 1.7202020202020202e-07, 1.7575757575757576e-07, 1.794949494949495e-07, 1.8323232323232323e-07, 1.8696969696969697e-07, 1.907070707070707e-07, 1.9444444444444445e-07, 1.9818181818181819e-07, 2.0191919191919192e-07, 2.0565656565656566e-07, 2.0939393939393937e-07, 2.131313131313131e-07, 2.1686868686868685e-07, 2.2060606060606059e-07, 2.2434343434343432e-07, 2.2808080808080806e-07, 2.318181818181818e-07, 2.3555555555555554e-07, 2.3929292929292925e-07, 2.43030303030303e-07, 2.467676767676767e-07, 2.5050505050505046e-07, 2.542424242424242e-07, 2.5797979797979794e-07, 2.617171717171717e-07, 2.654545454545454e-07, 2.6919191919191915e-07, 2.729292929292929e-07, 2.7666666666666663e-07, 2.8040404040404037e-07, 2.841414141414141e-07, 2.8787878787878784e-07, 2.916161616161616e-07, 2.953535353535353e-07, 2.9909090909090906e-07, 3.028282828282828e-07, 3.0656565656565653e-07, 3.1030303030303027e-07, 3.14040404040404e-07, 3.1777777777777775e-07, 3.215151515151515e-07, 3.252525252525252e-07, 3.2898989898989896e-07, 3.327272727272727e-07, 3.3646464646464644e-07, 3.402020202020202e-07, 3.439393939393939e-07, 3.4767676767676765e-07, 3.514141414141414e-07, 3.551515151515151e-07, 3.5888888888888886e-07, 3.626262626262626e-07, 3.6636363636363634e-07, 3.701010101010101e-07, 3.738383838383838e-07, 3.7757575757575755e-07, 3.813131313131313e-07, 3.8505050505050503e-07, 3.887878787878787e-07, 3.9252525252525245e-07, 3.962626262626262e-07, 4e-07], \"y\": [0.8242546896101903, 0.8038590311124244, 0.7837930817948805, 0.7640558880897661, 0.7446464031536102, 0.7255634880930943, 0.7068059132262644, 0.6883723593782204, 0.6702614192103895, 0.6524715985824823, 0.635001317946235, 0.6178489137700405, 0.6010126399935681, 0.5844906695114764, 0.5682810956853188, 0.5523819338827457, 0.5367911230431047, 0.5215065272685405, 0.5065259374396954, 0.4918470728551167, 0.4774675828934662, 0.4633850486976404, 0.44959698487989885, 0.43610084124710546, 0.42289400454518206, 0.4099738002218798, 0.397337494206966, 0.3849822947089327, 0.372905354027326, 0.3611037703797985, 0.34957458974298944, 0.33831480770633, 0.32732137133788036, 0.31659118106129713, 0.3061210925430354, 0.29590791858888504, 0.28594843104894646, 0.2762393627301444, 0.26677740931538413, 0.25755923128845115, 0.2485814558637559, 0.23984067892002714, 0.23133346693705367, 0.2230563589345783, 0.21500586841244526, 0.20717848529110292, 0.1995706778515641, 0.19217889467392593, 0.18499956657355116, 0.17802910853401263, 0.17126392163590376, 0.16470039498061606, 0.15833490760818592, 0.1521638304083135, 0.14618352802365403, 0.1403903607444853, 0.13478068639385238, 0.12935086220229106, 0.12409724667123344, 0.1190162014241968, 0.11410409304485679, 0.10935729490110921, 0.10477218895422036, 0.10034516755216859, 0.09607263520628001, 0.0919510103502579, 0.08797672708071094, 0.0841462368782796, 0.08045601030846429, 0.07690253870125656, 0.07348233580867537, 0.07019193943931075, 0.06702791306897633, 0.06398684742657337, 0.0610653620542678, 0.05826010684108218, 0.055567763529005006, 0.05298504719071912, 0.050508707678051004, 0.04813553104024343, 0.04586234091115289, 0.043685999864474356, 0.041603410736094616, 0.03961151791267742, 0.03770730858558075, 0.03588781396920962, 0.034150110482905886, 0.03249132089547662, 0.030908615431463914, 0.02939921283825736, 0.027960381413151564, 0.02658943998945031, 0.02528375888072021, 0.024040760782294664, 0.022857921629131136, 0.021732771409122793, 0.020662894930967714, 0.01964593254569616, 0.018679580820959375, 0.017761593167180754]}, {\"mode\": \"lines\", \"name\": \"lower prediction\", \"type\": \"scatter\", \"x\": [3e-08, 3.3737373737373735e-08, 3.747474747474747e-08, 4.1212121212121205e-08, 4.494949494949494e-08, 4.868686868686868e-08, 5.242424242424242e-08, 5.6161616161616156e-08, 5.98989898989899e-08, 6.363636363636363e-08, 6.737373737373737e-08, 7.111111111111111e-08, 7.484848484848483e-08, 7.858585858585857e-08, 8.232323232323231e-08, 8.606060606060605e-08, 8.979797979797978e-08, 9.353535353535352e-08, 9.727272727272726e-08, 1.01010101010101e-07, 1.0474747474747474e-07, 1.0848484848484847e-07, 1.1222222222222221e-07, 1.1595959595959595e-07, 1.196969696969697e-07, 1.2343434343434343e-07, 1.2717171717171716e-07, 1.309090909090909e-07, 1.3464646464646464e-07, 1.3838383838383838e-07, 1.4212121212121212e-07, 1.4585858585858585e-07, 1.495959595959596e-07, 1.5333333333333333e-07, 1.5707070707070707e-07, 1.608080808080808e-07, 1.6454545454545454e-07, 1.6828282828282828e-07, 1.7202020202020202e-07, 1.7575757575757576e-07, 1.794949494949495e-07, 1.8323232323232323e-07, 1.8696969696969697e-07, 1.907070707070707e-07, 1.9444444444444445e-07, 1.9818181818181819e-07, 2.0191919191919192e-07, 2.0565656565656566e-07, 2.0939393939393937e-07, 2.131313131313131e-07, 2.1686868686868685e-07, 2.2060606060606059e-07, 2.2434343434343432e-07, 2.2808080808080806e-07, 2.318181818181818e-07, 2.3555555555555554e-07, 2.3929292929292925e-07, 2.43030303030303e-07, 2.467676767676767e-07, 2.5050505050505046e-07, 2.542424242424242e-07, 2.5797979797979794e-07, 2.617171717171717e-07, 2.654545454545454e-07, 2.6919191919191915e-07, 2.729292929292929e-07, 2.7666666666666663e-07, 2.8040404040404037e-07, 2.841414141414141e-07, 2.8787878787878784e-07, 2.916161616161616e-07, 2.953535353535353e-07, 2.9909090909090906e-07, 3.028282828282828e-07, 3.0656565656565653e-07, 3.1030303030303027e-07, 3.14040404040404e-07, 3.1777777777777775e-07, 3.215151515151515e-07, 3.252525252525252e-07, 3.2898989898989896e-07, 3.327272727272727e-07, 3.3646464646464644e-07, 3.402020202020202e-07, 3.439393939393939e-07, 3.4767676767676765e-07, 3.514141414141414e-07, 3.551515151515151e-07, 3.5888888888888886e-07, 3.626262626262626e-07, 3.6636363636363634e-07, 3.701010101010101e-07, 3.738383838383838e-07, 3.7757575757575755e-07, 3.813131313131313e-07, 3.8505050505050503e-07, 3.887878787878787e-07, 3.9252525252525245e-07, 3.962626262626262e-07, 4e-07], \"y\": [0.7876198326016439, 0.7634050572641753, 0.7396821833317893, 0.7164490916168161, 0.6937034590795884, 0.6714427624406315, 0.6496642819050019, 0.628365104995046, 0.6075421304878613, 0.5871920724537341, 0.5673114643918338, 0.5478966634594402, 0.5289438547909795, 0.5104490559031515, 0.4924081211824189, 0.47481674645114214, 0.45767047360863383, 0.4409646953434106, 0.4246946599129214, 0.4088554759870288, 0.39344211755152037, 0.3784494288679275, 0.363872129485932, 0.34970481930463293, 0.33594198367895595, 0.3225779985674802, 0.30960713571796017, 0.2970235678868215, 0.2848213740889071, 0.2729945448737503, 0.2615369876246558, 0.2504425318768613, 0.23970493465106094, 0.2293178857985676, 0.2192750133543886, 0.20956988889449665, 0.20019603289357002, 0.19114692007948184, 0.182415984780814, 0.1739966262636749, 0.16588221405409756, 0.15806609324229587, 0.15054158976505636, 0.14330201566254355, 0.13634067430579508, 0.12965086559118616, 0.12322589109813822, 0.11705905920635204, 0.11114369016884124, 0.10547312113704274, 0.10004071113428474, 0.09483984597388657, 0.08986394311816946, 0.08510645647465591, 0.08056088112573427, 0.07622075798806661, 0.0720796783980177, 0.0681312886193811, 0.06436929426968258, 0.060787464661335194, 0.05737963705392583, 0.054139720813910115, 0.05106170147799213, 0.04813964471646873, 0.04536770019281339, 0.042740105315778626, 0.04025118888029446, 0.037895374593439765, 0.035667184481764445, 0.033561242176240166, 0.03157227607111603, 0.029695122352958542, 0.02792472789615148, 0.026256153021134373, 0.02468457411165702, 0.023205286087326575, 0.02181370472772613, 0.020505368844381127, 0.019275942296851575, 0.018121215849227996, 0.017037108863307397, 0.016019670824728233, 0.015065082698340868, 0.014169658109091245, 0.013329844344695658, 0.01254222317638352, 0.011803511493986136, 0.011110561751648741, 0.010460362220443305, 0.009850037044159944, 0.009276846094553643, 0.008738184622324802, 0.00823158270011041, 0.00775470445376361, 0.007305347078198981, 0.006881439634081411, 0.006481041621635667, 0.0061023413278543, 0.005743653943381577, 0.005403419445350619]}, {\"mode\": \"lines\", \"name\": \"upper prediction\", \"type\": \"scatter\", \"x\": [3e-08, 3.3737373737373735e-08, 3.747474747474747e-08, 4.1212121212121205e-08, 4.494949494949494e-08, 4.868686868686868e-08, 5.242424242424242e-08, 5.6161616161616156e-08, 5.98989898989899e-08, 6.363636363636363e-08, 6.737373737373737e-08, 7.111111111111111e-08, 7.484848484848483e-08, 7.858585858585857e-08, 8.232323232323231e-08, 8.606060606060605e-08, 8.979797979797978e-08, 9.353535353535352e-08, 9.727272727272726e-08, 1.01010101010101e-07, 1.0474747474747474e-07, 1.0848484848484847e-07, 1.1222222222222221e-07, 1.1595959595959595e-07, 1.196969696969697e-07, 1.2343434343434343e-07, 1.2717171717171716e-07, 1.309090909090909e-07, 1.3464646464646464e-07, 1.3838383838383838e-07, 1.4212121212121212e-07, 1.4585858585858585e-07, 1.495959595959596e-07, 1.5333333333333333e-07, 1.5707070707070707e-07, 1.608080808080808e-07, 1.6454545454545454e-07, 1.6828282828282828e-07, 1.7202020202020202e-07, 1.7575757575757576e-07, 1.794949494949495e-07, 1.8323232323232323e-07, 1.8696969696969697e-07, 1.907070707070707e-07, 1.9444444444444445e-07, 1.9818181818181819e-07, 2.0191919191919192e-07, 2.0565656565656566e-07, 2.0939393939393937e-07, 2.131313131313131e-07, 2.1686868686868685e-07, 2.2060606060606059e-07, 2.2434343434343432e-07, 2.2808080808080806e-07, 2.318181818181818e-07, 2.3555555555555554e-07, 2.3929292929292925e-07, 2.43030303030303e-07, 2.467676767676767e-07, 2.5050505050505046e-07, 2.542424242424242e-07, 2.5797979797979794e-07, 2.617171717171717e-07, 2.654545454545454e-07, 2.6919191919191915e-07, 2.729292929292929e-07, 2.7666666666666663e-07, 2.8040404040404037e-07, 2.841414141414141e-07, 2.8787878787878784e-07, 2.916161616161616e-07, 2.953535353535353e-07, 2.9909090909090906e-07, 3.028282828282828e-07, 3.0656565656565653e-07, 3.1030303030303027e-07, 3.14040404040404e-07, 3.1777777777777775e-07, 3.215151515151515e-07, 3.252525252525252e-07, 3.2898989898989896e-07, 3.327272727272727e-07, 3.3646464646464644e-07, 3.402020202020202e-07, 3.439393939393939e-07, 3.4767676767676765e-07, 3.514141414141414e-07, 3.551515151515151e-07, 3.5888888888888886e-07, 3.626262626262626e-07, 3.6636363636363634e-07, 3.701010101010101e-07, 3.738383838383838e-07, 3.7757575757575755e-07, 3.813131313131313e-07, 3.8505050505050503e-07, 3.887878787878787e-07, 3.9252525252525245e-07, 3.962626262626262e-07, 4e-07], \"y\": [0.8501406932470323, 0.8325423385192183, 0.8151800861495102, 0.7980534458463441, 0.7811618788921032, 0.7645047986446382, 0.7480815710521986, 0.7318915151814994, 0.7159339037586485, 0.7002079637226566, 0.6847128767912589, 0.6694477800387673, 0.6544117664856828, 0.6396038856997864, 0.6250231444084406, 0.6106685071218192, 0.596538896766793, 0.5826331953311962, 0.5689502445181955, 0.5554888464104892, 0.5422477641440577, 0.5292257225911943, 0.5164214090525341, 0.5038334739578123, 0.49146053157507186, 0.4793011607280463, 0.4673539055214429, 0.4556172760738484, 0.44408974925798467, 0.43276976944803647, 0.421655749273776, 0.4107460703812103, 0.4000390841994736, 0.389533112713691, 0.37922644924353643, 0.36911735922721056, 0.35920408101056195, 0.3494848266410768, 0.3399577826664614, 0.3306211109375406, 0.32147294941519966, 0.3125114129810897, 0.3037345942518256, 0.2951405643963971, 0.28672737395651926, 0.2784930536696478, 0.2704356152943801, 0.2625530524379713, 0.25484334138568465, 0.24730444193170503, 0.23993429821133744, 0.23273083953421508, 0.2256919812182428, 0.21881562542399915, 0.21209966198932131, 0.20554196926379903, 0.19914041494289922, 0.19289285690144808, 0.1867971440261943, 0.18085111704717743, 0.17505260936762648, 0.1693994478921117, 0.16388945385267706, 0.15852044363267398, 0.15329022958802369, 0.14819662086563146, 0.1432374242186766, 0.13841044481850412, 0.1337134870628414, 0.12914435538006377, 0.12470085502923578, 0.12038079289564906, 0.11618197828158464, 0.11210222369202215, 0.1081393456150202, 0.10429116529649389, 0.1005555095091125, 0.09693021131504184, 0.09341311082225702, 0.09000205593414813, 0.08669490309214467, 0.08348951801108302, 0.0803837764070401, 0.0773755647173597, 0.07446278081259405, 0.07164333470008613, 0.06891514921891671, 0.0662761607259405, 0.06372431977263628, 0.06125759177249509, 0.05887395765867035, 0.05657141453161585, 0.054347976296434314, 0.0522016742896622, 0.05013055789521446, 0.04813269514921402, 0.04620617333343017, 0.04434909955705079, 0.04255960132651178, 0.040835827103109734]}],\n",
       "                        {\"template\": {\"data\": {\"bar\": [{\"error_x\": {\"color\": \"#2a3f5f\"}, \"error_y\": {\"color\": \"#2a3f5f\"}, \"marker\": {\"line\": {\"color\": \"#E5ECF6\", \"width\": 0.5}}, \"type\": \"bar\"}], \"barpolar\": [{\"marker\": {\"line\": {\"color\": \"#E5ECF6\", \"width\": 0.5}}, \"type\": \"barpolar\"}], \"carpet\": [{\"aaxis\": {\"endlinecolor\": \"#2a3f5f\", \"gridcolor\": \"white\", \"linecolor\": \"white\", \"minorgridcolor\": \"white\", \"startlinecolor\": \"#2a3f5f\"}, \"baxis\": {\"endlinecolor\": \"#2a3f5f\", \"gridcolor\": \"white\", \"linecolor\": \"white\", \"minorgridcolor\": \"white\", \"startlinecolor\": \"#2a3f5f\"}, \"type\": \"carpet\"}], \"choropleth\": [{\"colorbar\": {\"outlinewidth\": 0, \"ticks\": \"\"}, \"type\": \"choropleth\"}], \"contour\": [{\"colorbar\": {\"outlinewidth\": 0, \"ticks\": \"\"}, \"colorscale\": [[0.0, \"#0d0887\"], [0.1111111111111111, \"#46039f\"], [0.2222222222222222, \"#7201a8\"], [0.3333333333333333, \"#9c179e\"], [0.4444444444444444, \"#bd3786\"], [0.5555555555555556, \"#d8576b\"], [0.6666666666666666, \"#ed7953\"], [0.7777777777777778, \"#fb9f3a\"], [0.8888888888888888, \"#fdca26\"], [1.0, \"#f0f921\"]], \"type\": \"contour\"}], \"contourcarpet\": [{\"colorbar\": {\"outlinewidth\": 0, \"ticks\": \"\"}, \"type\": \"contourcarpet\"}], \"heatmap\": [{\"colorbar\": {\"outlinewidth\": 0, \"ticks\": \"\"}, \"colorscale\": [[0.0, \"#0d0887\"], [0.1111111111111111, \"#46039f\"], [0.2222222222222222, \"#7201a8\"], [0.3333333333333333, \"#9c179e\"], [0.4444444444444444, \"#bd3786\"], [0.5555555555555556, \"#d8576b\"], [0.6666666666666666, \"#ed7953\"], [0.7777777777777778, \"#fb9f3a\"], [0.8888888888888888, \"#fdca26\"], [1.0, \"#f0f921\"]], \"type\": \"heatmap\"}], \"heatmapgl\": [{\"colorbar\": {\"outlinewidth\": 0, \"ticks\": \"\"}, \"colorscale\": [[0.0, \"#0d0887\"], [0.1111111111111111, \"#46039f\"], [0.2222222222222222, \"#7201a8\"], [0.3333333333333333, \"#9c179e\"], [0.4444444444444444, \"#bd3786\"], [0.5555555555555556, \"#d8576b\"], [0.6666666666666666, \"#ed7953\"], [0.7777777777777778, \"#fb9f3a\"], [0.8888888888888888, \"#fdca26\"], [1.0, \"#f0f921\"]], \"type\": \"heatmapgl\"}], \"histogram\": [{\"marker\": {\"colorbar\": {\"outlinewidth\": 0, \"ticks\": \"\"}}, \"type\": \"histogram\"}], \"histogram2d\": [{\"colorbar\": {\"outlinewidth\": 0, \"ticks\": \"\"}, \"colorscale\": [[0.0, \"#0d0887\"], [0.1111111111111111, \"#46039f\"], [0.2222222222222222, \"#7201a8\"], [0.3333333333333333, \"#9c179e\"], [0.4444444444444444, \"#bd3786\"], [0.5555555555555556, \"#d8576b\"], [0.6666666666666666, \"#ed7953\"], [0.7777777777777778, \"#fb9f3a\"], [0.8888888888888888, \"#fdca26\"], [1.0, \"#f0f921\"]], \"type\": \"histogram2d\"}], \"histogram2dcontour\": [{\"colorbar\": {\"outlinewidth\": 0, \"ticks\": \"\"}, \"colorscale\": [[0.0, \"#0d0887\"], [0.1111111111111111, \"#46039f\"], [0.2222222222222222, \"#7201a8\"], [0.3333333333333333, \"#9c179e\"], [0.4444444444444444, \"#bd3786\"], [0.5555555555555556, \"#d8576b\"], [0.6666666666666666, \"#ed7953\"], [0.7777777777777778, \"#fb9f3a\"], [0.8888888888888888, \"#fdca26\"], [1.0, \"#f0f921\"]], \"type\": \"histogram2dcontour\"}], \"mesh3d\": [{\"colorbar\": {\"outlinewidth\": 0, \"ticks\": \"\"}, \"type\": \"mesh3d\"}], \"parcoords\": [{\"line\": {\"colorbar\": {\"outlinewidth\": 0, \"ticks\": \"\"}}, \"type\": \"parcoords\"}], \"pie\": [{\"automargin\": true, \"type\": \"pie\"}], \"scatter\": [{\"marker\": {\"colorbar\": {\"outlinewidth\": 0, \"ticks\": \"\"}}, \"type\": \"scatter\"}], \"scatter3d\": [{\"line\": {\"colorbar\": {\"outlinewidth\": 0, \"ticks\": \"\"}}, \"marker\": {\"colorbar\": {\"outlinewidth\": 0, \"ticks\": \"\"}}, \"type\": \"scatter3d\"}], \"scattercarpet\": [{\"marker\": {\"colorbar\": {\"outlinewidth\": 0, \"ticks\": \"\"}}, \"type\": \"scattercarpet\"}], \"scattergeo\": [{\"marker\": {\"colorbar\": {\"outlinewidth\": 0, \"ticks\": \"\"}}, \"type\": \"scattergeo\"}], \"scattergl\": [{\"marker\": {\"colorbar\": {\"outlinewidth\": 0, \"ticks\": \"\"}}, \"type\": \"scattergl\"}], \"scattermapbox\": [{\"marker\": {\"colorbar\": {\"outlinewidth\": 0, \"ticks\": \"\"}}, \"type\": \"scattermapbox\"}], \"scatterpolar\": [{\"marker\": {\"colorbar\": {\"outlinewidth\": 0, \"ticks\": \"\"}}, \"type\": \"scatterpolar\"}], \"scatterpolargl\": [{\"marker\": {\"colorbar\": {\"outlinewidth\": 0, \"ticks\": \"\"}}, \"type\": \"scatterpolargl\"}], \"scatterternary\": [{\"marker\": {\"colorbar\": {\"outlinewidth\": 0, \"ticks\": \"\"}}, \"type\": \"scatterternary\"}], \"surface\": [{\"colorbar\": {\"outlinewidth\": 0, \"ticks\": \"\"}, \"colorscale\": [[0.0, \"#0d0887\"], [0.1111111111111111, \"#46039f\"], [0.2222222222222222, \"#7201a8\"], [0.3333333333333333, \"#9c179e\"], [0.4444444444444444, \"#bd3786\"], [0.5555555555555556, \"#d8576b\"], [0.6666666666666666, \"#ed7953\"], [0.7777777777777778, \"#fb9f3a\"], [0.8888888888888888, \"#fdca26\"], [1.0, \"#f0f921\"]], \"type\": \"surface\"}], \"table\": [{\"cells\": {\"fill\": {\"color\": \"#EBF0F8\"}, \"line\": {\"color\": \"white\"}}, \"header\": {\"fill\": {\"color\": \"#C8D4E3\"}, \"line\": {\"color\": \"white\"}}, \"type\": \"table\"}]}, \"layout\": {\"annotationdefaults\": {\"arrowcolor\": \"#2a3f5f\", \"arrowhead\": 0, \"arrowwidth\": 1}, \"coloraxis\": {\"colorbar\": {\"outlinewidth\": 0, \"ticks\": \"\"}}, \"colorscale\": {\"diverging\": [[0, \"#8e0152\"], [0.1, \"#c51b7d\"], [0.2, \"#de77ae\"], [0.3, \"#f1b6da\"], [0.4, \"#fde0ef\"], [0.5, \"#f7f7f7\"], [0.6, \"#e6f5d0\"], [0.7, \"#b8e186\"], [0.8, \"#7fbc41\"], [0.9, \"#4d9221\"], [1, \"#276419\"]], \"sequential\": [[0.0, \"#0d0887\"], [0.1111111111111111, \"#46039f\"], [0.2222222222222222, \"#7201a8\"], [0.3333333333333333, \"#9c179e\"], [0.4444444444444444, \"#bd3786\"], [0.5555555555555556, \"#d8576b\"], [0.6666666666666666, \"#ed7953\"], [0.7777777777777778, \"#fb9f3a\"], [0.8888888888888888, \"#fdca26\"], [1.0, \"#f0f921\"]], \"sequentialminus\": [[0.0, \"#0d0887\"], [0.1111111111111111, \"#46039f\"], [0.2222222222222222, \"#7201a8\"], [0.3333333333333333, \"#9c179e\"], [0.4444444444444444, \"#bd3786\"], [0.5555555555555556, \"#d8576b\"], [0.6666666666666666, \"#ed7953\"], [0.7777777777777778, \"#fb9f3a\"], [0.8888888888888888, \"#fdca26\"], [1.0, \"#f0f921\"]]}, \"colorway\": [\"#636efa\", \"#EF553B\", \"#00cc96\", \"#ab63fa\", \"#FFA15A\", \"#19d3f3\", \"#FF6692\", \"#B6E880\", \"#FF97FF\", \"#FECB52\"], \"font\": {\"color\": \"#2a3f5f\"}, \"geo\": {\"bgcolor\": \"white\", \"lakecolor\": \"white\", \"landcolor\": \"#E5ECF6\", \"showlakes\": true, \"showland\": true, \"subunitcolor\": \"white\"}, \"hoverlabel\": {\"align\": \"left\"}, \"hovermode\": \"closest\", \"mapbox\": {\"style\": \"light\"}, \"paper_bgcolor\": \"white\", \"plot_bgcolor\": \"#E5ECF6\", \"polar\": {\"angularaxis\": {\"gridcolor\": \"white\", \"linecolor\": \"white\", \"ticks\": \"\"}, \"bgcolor\": \"#E5ECF6\", \"radialaxis\": {\"gridcolor\": \"white\", \"linecolor\": \"white\", \"ticks\": \"\"}}, \"scene\": {\"xaxis\": {\"backgroundcolor\": \"#E5ECF6\", \"gridcolor\": \"white\", \"gridwidth\": 2, \"linecolor\": \"white\", \"showbackground\": true, \"ticks\": \"\", \"zerolinecolor\": \"white\"}, \"yaxis\": {\"backgroundcolor\": \"#E5ECF6\", \"gridcolor\": \"white\", \"gridwidth\": 2, \"linecolor\": \"white\", \"showbackground\": true, \"ticks\": \"\", \"zerolinecolor\": \"white\"}, \"zaxis\": {\"backgroundcolor\": \"#E5ECF6\", \"gridcolor\": \"white\", \"gridwidth\": 2, \"linecolor\": \"white\", \"showbackground\": true, \"ticks\": \"\", \"zerolinecolor\": \"white\"}}, \"shapedefaults\": {\"line\": {\"color\": \"#2a3f5f\"}}, \"ternary\": {\"aaxis\": {\"gridcolor\": \"white\", \"linecolor\": \"white\", \"ticks\": \"\"}, \"baxis\": {\"gridcolor\": \"white\", \"linecolor\": \"white\", \"ticks\": \"\"}, \"bgcolor\": \"#E5ECF6\", \"caxis\": {\"gridcolor\": \"white\", \"linecolor\": \"white\", \"ticks\": \"\"}}, \"title\": {\"x\": 0.05}, \"xaxis\": {\"automargin\": true, \"gridcolor\": \"white\", \"linecolor\": \"white\", \"ticks\": \"\", \"title\": {\"standoff\": 15}, \"zerolinecolor\": \"white\", \"zerolinewidth\": 2}, \"yaxis\": {\"automargin\": true, \"gridcolor\": \"white\", \"linecolor\": \"white\", \"ticks\": \"\", \"title\": {\"standoff\": 15}, \"zerolinecolor\": \"white\", \"zerolinewidth\": 2}}}},\n",
       "                        {\"responsive\": true}\n",
       "                    ).then(function(){\n",
       "                            \n",
       "var gd = document.getElementById('420bd228-a777-49b9-bc86-e962a0e943f4');\n",
       "var x = new MutationObserver(function (mutations, observer) {{\n",
       "        var display = window.getComputedStyle(gd).display;\n",
       "        if (!display || display === 'none') {{\n",
       "            console.log([gd, 'removed!']);\n",
       "            Plotly.purge(gd);\n",
       "            observer.disconnect();\n",
       "        }}\n",
       "}});\n",
       "\n",
       "// Listen for the removal of the full notebook cells\n",
       "var notebookContainer = gd.closest('#notebook-container');\n",
       "if (notebookContainer) {{\n",
       "    x.observe(notebookContainer, {childList: true});\n",
       "}}\n",
       "\n",
       "// Listen for the clearing of the current output cell\n",
       "var outputEl = gd.closest('.output');\n",
       "if (outputEl) {{\n",
       "    x.observe(outputEl, {childList: true});\n",
       "}}\n",
       "\n",
       "                        })\n",
       "                };\n",
       "                \n",
       "            </script>\n",
       "        </div>\n",
       "</body>\n",
       "</html>"
      ]
     },
     "metadata": {}
    }
   ]
  }
 ]
}