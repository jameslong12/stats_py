{
 "nbformat": 4,
 "nbformat_minor": 0,
 "metadata": {
  "colab": {
   "name": "module_1_basics_of_statisticsANSWERS.ipynb",
   "provenance": []
  },
  "kernelspec": {
   "name": "python3",
   "display_name": "Python 3"
  },
  "language_info": {
   "name": "python"
  }
 },
 "cells": [
  {
   "cell_type": "markdown",
   "source": [
    "# Module 1: Basics of statistics\n",
    "\n",
    "\n",
    "## Statistics of nerve conduction velocities\n",
    "An inquisitive Duke BME student decides to measure the nerve conduction velocities of fellow studies on campus. After ten grueling hours of recording, the student accumulates velocity readings for a random sample of 50 students, stored to a .csv file."
   ],
   "metadata": {
    "id": "GMjTrVRd6IZ7",
    "pycharm": {
     "name": "#%% md\n"
    }
   }
  },
  {
   "cell_type": "code",
   "execution_count": null,
   "metadata": {
    "id": "ppllJOapdrFk",
    "colab": {
     "base_uri": "https://localhost:8080/"
    },
    "executionInfo": {
     "status": "ok",
     "timestamp": 1640198014253,
     "user_tz": 360,
     "elapsed": 1834,
     "user": {
      "displayName": "James Long",
      "photoUrl": "https://lh3.googleusercontent.com/a/default-user=s64",
      "userId": "02561479835225328505"
     }
    },
    "outputId": "e450a8b0-e1c5-44c2-abb9-e22129616674",
    "pycharm": {
     "name": "#%%\n",
     "is_executing": true
    }
   },
   "outputs": [],
   "source": [
    "# Import relevant packages\n",
    "import scipy.stats as stats     # Comprehensive stats package\n",
    "import numpy as np              # Mathematical operations\n",
    "import plotly.express as px     # Plotting\n",
    "import pandas as pd             # Data reading and processing\n",
    "\n",
    "# Import data as pandas dataframe\n",
    "df = pd.read_csv(\"https://raw.githubusercontent.com/jlongc12/stats_py/main/data/ncv_data.csv\")\n",
    "\n",
    "# It is good practice to look at your data frame before doing any work\n",
    "df.info()           "
   ]
  },
  {
   "cell_type": "markdown",
   "source": [
    "## Visualizing the data\n",
    "\n",
    "Make a histogram of the raw data. What information does a histogram tell you?"
   ],
   "metadata": {
    "id": "LZqXXpDj6gV4",
    "pycharm": {
     "name": "#%% md\n"
    }
   }
  },
  {
   "cell_type": "code",
   "source": [
    "fig = px.histogram(df,x=\"NCV\",                  # Call on the NCV tag in your data frame\n",
    "                   title='Histogram of NCVs',   # Give your plot a title\n",
    "                   labels={'NCV':'NCV (m/s)'})  # Change the x-axis label to include units\n",
    "fig.show()"
   ],
   "metadata": {
    "id": "IObFWkdpdxnO",
    "colab": {
     "base_uri": "https://localhost:8080/",
     "height": 542
    },
    "executionInfo": {
     "status": "ok",
     "timestamp": 1640198034531,
     "user_tz": 360,
     "elapsed": 1274,
     "user": {
      "displayName": "James Long",
      "photoUrl": "https://lh3.googleusercontent.com/a/default-user=s64",
      "userId": "02561479835225328505"
     }
    },
    "outputId": "3c7d97c9-8a05-4ffe-d1a7-57f0dc1fd06d",
    "pycharm": {
     "name": "#%%\n",
     "is_executing": true
    }
   },
   "execution_count": null,
   "outputs": []
  },
  {
   "cell_type": "markdown",
   "source": [
    "## Calculating basic measures\n",
    "\n",
    "Calculate the sample mean and standard deviation."
   ],
   "metadata": {
    "id": "UOcu7OIT69Io",
    "pycharm": {
     "name": "#%% md\n"
    }
   }
  },
  {
   "cell_type": "code",
   "source": [
    "sample_mean = df['NCV'].mean()\n",
    "sample_std = df['NCV'].std()\n",
    "\n",
    "# Get in the habit of printing your results\n",
    "print('Sample mean: %.2f' % sample_mean)\n",
    "print('Sample standard deviation: %.2f' % sample_std)"
   ],
   "metadata": {
    "colab": {
     "base_uri": "https://localhost:8080/"
    },
    "id": "mVL6jwmZK0X0",
    "executionInfo": {
     "status": "ok",
     "timestamp": 1640039413460,
     "user_tz": 360,
     "elapsed": 164,
     "user": {
      "displayName": "James Long",
      "photoUrl": "https://lh3.googleusercontent.com/a/default-user=s64",
      "userId": "02561479835225328505"
     }
    },
    "outputId": "e1e13d4e-84e2-45e6-8934-39559e18a629",
    "pycharm": {
     "name": "#%%\n"
    }
   },
   "execution_count": null,
   "outputs": [
    {
     "output_type": "stream",
     "name": "stdout",
     "text": [
      "Sample mean: 50.06\n",
      "Sample standard deviation: 4.38\n"
     ]
    }
   ]
  },
  {
   "cell_type": "markdown",
   "source": [
    "## The sampling distribution\n",
    "\n",
    "Estimate the standard deviation of the sampling distribution of NCVs for Duke students. Be able to explain what the sampling distribution represents. Why is it acceptable to use the t-distribution to model the sampling distribution of the NCVs of Duke students? How many degrees of freedom are there when using the sample data to estimate the t-distribution?"
   ],
   "metadata": {
    "id": "wDWKj57k7hUY",
    "pycharm": {
     "name": "#%% md\n"
    }
   }
  },
  {
   "cell_type": "code",
   "source": [
    "n = df['NCV'].count()     # This is just one of several useful pandas operations\n",
    "sampling_distribution_std = sample_std/np.sqrt(n)\n",
    "df_ncv = n-1\n",
    "\n",
    "# Print your results\n",
    "print('Sampling distribution standard deviation: %.2f' % sampling_distribution_std)\n",
    "print('Degrees of freedom: %d' % df_ncv)"
   ],
   "metadata": {
    "id": "Axhti-BYLx0I",
    "executionInfo": {
     "status": "ok",
     "timestamp": 1640039416363,
     "user_tz": 360,
     "elapsed": 116,
     "user": {
      "displayName": "James Long",
      "photoUrl": "https://lh3.googleusercontent.com/a/default-user=s64",
      "userId": "02561479835225328505"
     }
    },
    "colab": {
     "base_uri": "https://localhost:8080/"
    },
    "outputId": "68f63af2-32d4-45e6-fcae-e89948926738",
    "pycharm": {
     "name": "#%%\n"
    }
   },
   "execution_count": null,
   "outputs": [
    {
     "output_type": "stream",
     "name": "stdout",
     "text": [
      "Sampling distribution standard deviation: 0.62\n",
      "Degrees of freedom: 49\n"
     ]
    }
   ]
  },
  {
   "cell_type": "markdown",
   "source": [
    "## Probabilities\n",
    "\n",
    "Assume that the true population (Duke students) mean for NCV is known to be 51 m/s. Perform the calculations necessary to indicate which region of the t-distribution (i.e. the cut-off t-value) corresponds to probability of collecting a sample with a mean less than or equal to that found using the data provided. Calculate the probability with Python and compare it to value given in the t-table provided."
   ],
   "metadata": {
    "id": "82aTTeA78hAJ",
    "pycharm": {
     "name": "#%% md\n"
    }
   }
  },
  {
   "cell_type": "code",
   "source": [
    "pop_mean = 51\n",
    "t = (sample_mean-pop_mean)/sampling_distribution_std\n",
    "print('The region less than t-statistic = %.2f' % t)\n",
    "\n",
    "# Look up how to use this function - what inputs do you need?\n",
    "p = stats.t.cdf()\n",
    "p = stats.t.cdf(t,df_ncv)\n",
    "print('p = %.3f' % p)\n"
   ],
   "metadata": {
    "colab": {
     "base_uri": "https://localhost:8080/"
    },
    "id": "waR1VilR8Xt_",
    "executionInfo": {
     "status": "ok",
     "timestamp": 1640039432976,
     "user_tz": 360,
     "elapsed": 157,
     "user": {
      "displayName": "James Long",
      "photoUrl": "https://lh3.googleusercontent.com/a/default-user=s64",
      "userId": "02561479835225328505"
     }
    },
    "outputId": "f95e8f50-b459-424e-eb5a-853d80711baa",
    "pycharm": {
     "name": "#%%\n"
    }
   },
   "execution_count": null,
   "outputs": [
    {
     "output_type": "stream",
     "name": "stdout",
     "text": [
      "The region less than t-statistic = -1.52\n",
      "p = 0.068\n"
     ]
    }
   ]
  },
  {
   "cell_type": "markdown",
   "source": [
    "What is the probability that your next random sample of 50 Duke students will have a mean greater than 51.5 m/s?"
   ],
   "metadata": {
    "id": "0q9wL40f75ra",
    "pycharm": {
     "name": "#%% md\n"
    }
   }
  },
  {
   "cell_type": "code",
   "source": [
    "new_sample_mean = 51.5\n",
    "t = (new_sample_mean-pop_mean)/sampling_distribution_std\n",
    "\n",
    "# It's the same function as before. How will you change your inputs?\n",
    "p = 1-stats.t.cdf(t,n-1)\n",
    "print('p = %.2f' % p)"
   ],
   "metadata": {
    "colab": {
     "base_uri": "https://localhost:8080/"
    },
    "id": "gvsAq0FPNiYr",
    "executionInfo": {
     "status": "ok",
     "timestamp": 1640039455377,
     "user_tz": 360,
     "elapsed": 123,
     "user": {
      "displayName": "James Long",
      "photoUrl": "https://lh3.googleusercontent.com/a/default-user=s64",
      "userId": "02561479835225328505"
     }
    },
    "outputId": "bd64c462-49d5-4d67-9c07-e969ccdc0d03",
    "pycharm": {
     "name": "#%%\n"
    }
   },
   "execution_count": null,
   "outputs": [
    {
     "output_type": "stream",
     "name": "stdout",
     "text": [
      "p = 0.21\n"
     ]
    }
   ]
  },
  {
   "cell_type": "markdown",
   "source": [
    "# Working backwards\n",
    "\n",
    "Let's think about this problem in the reverse. Instead of determining the probability of finding a sample mean, let's find the mean that yields a desired probability, e.g. $P(\\bar{x} \\leq ?) = 0.05$. We will basically complete the following statement: \"There is a 5% chance of collecting a sample mean greater than _______.\"\n",
    "\n",
    "First, find the unknown t-statistic in the following statement: $P(t \\leq ?) = 0.95$. This value is called the critical t-value, or t-critical."
   ],
   "metadata": {
    "id": "0U9-BMmU-Ctb",
    "pycharm": {
     "name": "#%% md\n"
    }
   }
  },
  {
   "cell_type": "code",
   "source": [
    "# Another functions from stats.t. Always look up documentation if you don't recognize a function!\n",
    "t_crit = stats.t.ppf(0.95,n-1)\n",
    "print('t-critical = %.2f' % t_crit)"
   ],
   "metadata": {
    "colab": {
     "base_uri": "https://localhost:8080/"
    },
    "id": "NNXBK0AJN1zQ",
    "executionInfo": {
     "status": "ok",
     "timestamp": 1640039468546,
     "user_tz": 360,
     "elapsed": 164,
     "user": {
      "displayName": "James Long",
      "photoUrl": "https://lh3.googleusercontent.com/a/default-user=s64",
      "userId": "02561479835225328505"
     }
    },
    "outputId": "e0f30b11-10c7-4a87-f0f1-d3b287500c41",
    "pycharm": {
     "name": "#%%\n"
    }
   },
   "execution_count": null,
   "outputs": [
    {
     "output_type": "stream",
     "name": "stdout",
     "text": [
      "t-critical = 1.68\n"
     ]
    }
   ]
  },
  {
   "cell_type": "markdown",
   "source": [
    "Using this t-critical value, find the sample mean that completes the following statement: \"There is a 5% chance of collecting a sample mean greater than _______.\""
   ],
   "metadata": {
    "id": "64Ye8wc3-1sN",
    "pycharm": {
     "name": "#%% md\n"
    }
   }
  },
  {
   "cell_type": "code",
   "source": [
    "new_sample_mean = t_crit*sampling_distribution_std+pop_mean\n",
    "print('There is a 5%% chance of collecting a sample mean greater than %.2f' % new_sample_mean)"
   ],
   "metadata": {
    "colab": {
     "base_uri": "https://localhost:8080/"
    },
    "id": "zk0oW6rt_F-A",
    "executionInfo": {
     "status": "ok",
     "timestamp": 1640039471338,
     "user_tz": 360,
     "elapsed": 138,
     "user": {
      "displayName": "James Long",
      "photoUrl": "https://lh3.googleusercontent.com/a/default-user=s64",
      "userId": "02561479835225328505"
     }
    },
    "outputId": "9dc194f3-a440-497d-9138-43fcc100db73",
    "pycharm": {
     "name": "#%%\n"
    }
   },
   "execution_count": null,
   "outputs": [
    {
     "output_type": "stream",
     "name": "stdout",
     "text": [
      "There is a 5% chance of collecting a sample mean greater than 52.04\n"
     ]
    }
   ]
  }
 ]
}