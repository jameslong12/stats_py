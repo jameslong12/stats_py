{
 "nbformat": 4,
 "nbformat_minor": 0,
 "metadata": {
  "colab": {
   "name": "module_4_anovaANSWERS.ipynb",
   "provenance": []
  },
  "kernelspec": {
   "name": "python3",
   "display_name": "Python 3"
  },
  "language_info": {
   "name": "python"
  }
 },
 "cells": [
  {
   "cell_type": "markdown",
   "source": [
    "#Module 4: ANOVA\n",
    "\n",
    "##Blood clotting\n",
    "Investigators are measuring how regular use of a commonly used painkiller affects blood clotting in patients over time, assuming a significance of 0.05. The experiment was designed as follows:\n",
    "\n",
    "\n",
    "*   Eight subjects were gathered. Each had their blood tested for clotting time (minutes) before use of the painkiller as a control.\n",
    "*   Subjects began regular use of the painkiller. Clotting time was then measured three months after drug use began.\n",
    "*   Clotting time was then measured six months after drug use began.\n",
    "\n",
    "Before we dive into the Python, discuss briefly:\n",
    "\n",
    "\n",
    "*   Would a regular or repeated measures ANOVA be appropriate to assess the drug's effect on clotting time?\n",
    "*   Propose a null and alternate hypothesis for this study.\n",
    "*   List the assumptions that must be valid (or close to valid) when drawing conclusions from your test.\n"
   ],
   "metadata": {
    "id": "HBB6LlAsbkpP",
    "pycharm": {
     "name": "#%% md\n"
    }
   }
  },
  {
   "cell_type": "code",
   "execution_count": 1,
   "metadata": {
    "colab": {
     "base_uri": "https://localhost:8080/"
    },
    "id": "7e3ngoxDavVo",
    "executionInfo": {
     "status": "ok",
     "timestamp": 1645041996392,
     "user_tz": 300,
     "elapsed": 990,
     "user": {
      "displayName": "James Long",
      "photoUrl": "https://lh3.googleusercontent.com/a/default-user=s64",
      "userId": "02093697503503568617"
     }
    },
    "outputId": "8bd4488e-53f1-4c61-81e1-274bd204b7aa",
    "pycharm": {
     "name": "#%%\n"
    }
   },
   "outputs": [
    {
     "output_type": "stream",
     "name": "stdout",
     "text": [
      "<class 'pandas.core.frame.DataFrame'>\n",
      "RangeIndex: 8 entries, 0 to 7\n",
      "Data columns (total 4 columns):\n",
      " #   Column   Non-Null Count  Dtype\n",
      "---  ------   --------------  -----\n",
      " 0   subject  8 non-null      int64\n",
      " 1   control  8 non-null      int64\n",
      " 2   3mo      8 non-null      int64\n",
      " 3   6mo      8 non-null      int64\n",
      "dtypes: int64(4)\n",
      "memory usage: 384.0 bytes\n"
     ]
    }
   ],
   "source": [
    "import scipy.stats as stats\n",
    "import numpy as np\n",
    "import pandas as pd\n",
    "\n",
    "df = pd.read_csv(\"https://raw.githubusercontent.com/jlongc12/stats_py/main/data/clot_data.csv\")\n",
    "df.info()"
   ]
  },
  {
   "cell_type": "markdown",
   "source": [
    "## Calculating sum of squares\n",
    "Fill in the table below with calculated values.\n",
    "\n",
    "| | Sum of squares (SS) | Degrees of freedom (DF) |\n",
    "| --- | --- | --- |\n",
    "| Total | | |\n",
    "| Between groups | | |\n",
    "| Within groups | | |\n",
    "| Subjects groups | | |\n",
    "| Error | | |\n"
   ],
   "metadata": {
    "id": "jiCXZVfjcz6-",
    "pycharm": {
     "name": "#%% md\n"
    }
   }
  },
  {
   "cell_type": "code",
   "source": [
    "# A lot of operations here. Time to practice your Python skills!\n",
    "total = np.array(df[['control','3mo','6mo']])\n",
    "grand_mean = total.mean()\n",
    "\n",
    "ss_total = np.sum(np.square(total-grand_mean))\n",
    "\n",
    "ss_control = np.square(df['control'].mean()-grand_mean)\n",
    "ss_3mo = np.square(df['3mo'].mean()-grand_mean)\n",
    "ss_6mo = np.square(df['6mo'].mean()-grand_mean)\n",
    "ss_bg = (ss_control+ss_3mo+ss_6mo)*df['subject'].count()\n",
    "\n",
    "ss_control = np.sum(np.square(df['control']-df['control'].mean()))\n",
    "ss_3mo = np.sum(np.square(df['3mo']-df['3mo'].mean()))\n",
    "ss_6mo = np.sum(np.square(df['6mo']-df['6mo'].mean()))\n",
    "ss_wg = ss_control+ss_3mo+ss_6mo\n",
    "\n",
    "ss_subject = np.sum(np.square(total.mean(axis=1)-grand_mean))*np.size(total,axis=1)\n",
    "ss_error = ss_wg-ss_subject\n",
    "\n",
    "\n",
    "print('Sum of squares:')\n",
    "print('Total: %.2f' % ss_total)\n",
    "print('Between group: %.2f' % ss_bg)\n",
    "print('Within group: %.2f' % ss_wg)\n",
    "print('Subject: %.2f' % ss_subject)\n",
    "print('Error: %.2f' % ss_error)"
   ],
   "metadata": {
    "colab": {
     "base_uri": "https://localhost:8080/"
    },
    "id": "1gmQp6iXgQ2U",
    "executionInfo": {
     "status": "ok",
     "timestamp": 1645042000328,
     "user_tz": 300,
     "elapsed": 156,
     "user": {
      "displayName": "James Long",
      "photoUrl": "https://lh3.googleusercontent.com/a/default-user=s64",
      "userId": "02093697503503568617"
     }
    },
    "outputId": "35a65f99-e578-4737-a405-8b1cfa3c9570",
    "pycharm": {
     "name": "#%%\n"
    }
   },
   "execution_count": 2,
   "outputs": [
    {
     "output_type": "stream",
     "name": "stdout",
     "text": [
      "Sum of squares:\n",
      "Total: 194.00\n",
      "Between group: 82.75\n",
      "Within group: 111.25\n",
      "Subject: 62.00\n",
      "Error: 49.25\n"
     ]
    }
   ]
  },
  {
   "cell_type": "markdown",
   "source": [
    "## Calculating the F-statistic\n",
    "Fill in the table below with calculated values. When comparing to a significance of 0.05, what can you conclude about the effect of painkillers on mean clotting time over time?\n",
    "\n",
    "| | Mean sum of squares (MSS) | F-statistic | p-value |\n",
    "| --- | --- | --- | --- |\n",
    "| Between group | | | |\n",
    "| Error | | N/A | N/A |\n"
   ],
   "metadata": {
    "id": "_EDa1pVhoZRL",
    "pycharm": {
     "name": "#%% md\n"
    }
   }
  },
  {
   "cell_type": "code",
   "source": [
    "df_bg = np.size(total,axis=1)-1\n",
    "mss_bg = ss_bg/df_bg\n",
    "\n",
    "df_wg = np.prod(np.shape(total))-1-df_bg\n",
    "df_subject = np.size(total,axis=0)-1\n",
    "df_error = df_wg-df_subject\n",
    "mss_error = ss_error/df_error\n",
    "\n",
    "f_stat = mss_bg/mss_error\n",
    "\n",
    "# Similar to a function we've seen before. Check the docs!\n",
    "p = 1-stats.f.cdf(f_stat,df_bg,df_error)\n",
    "\n",
    "print('Mean sum of squares:')\n",
    "print('Between group: %.2f' % mss_bg)\n",
    "print('Error: %.2f' % ss_error)\n",
    "print('F-statistic: %.2f' % f_stat)\n",
    "print('p: %.3f' % p)"
   ],
   "metadata": {
    "colab": {
     "base_uri": "https://localhost:8080/"
    },
    "id": "pxmIMd6-ooOd",
    "executionInfo": {
     "status": "ok",
     "timestamp": 1640035569754,
     "user_tz": 360,
     "elapsed": 5,
     "user": {
      "displayName": "James Long",
      "photoUrl": "https://lh3.googleusercontent.com/a/default-user=s64",
      "userId": "02561479835225328505"
     }
    },
    "outputId": "d6d51f47-8d04-4f4e-cfd9-e56f7eba1c28",
    "pycharm": {
     "name": "#%%\n"
    }
   },
   "execution_count": null,
   "outputs": [
    {
     "output_type": "stream",
     "name": "stdout",
     "text": [
      "Mean sum of squares:\n",
      "Between group: 41.38\n",
      "Error: 49.25\n",
      "F-statistic: 11.76\n",
      "p: 0.001\n"
     ]
    },
    {
     "output_type": "execute_result",
     "data": {
      "text/plain": [
       "F_onewayResult(statistic=7.810112359550562, pvalue=0.002912272720024801)"
      ]
     },
     "metadata": {},
     "execution_count": 98
    }
   ]
  },
  {
   "cell_type": "markdown",
   "source": [
    "## Testing assumptions\n",
    "\n",
    "Let's now test the assumptions that we assumed were valid at the start. Test for the following assumptions: normality and homogeneity of variance. What do the results indicate?"
   ],
   "metadata": {
    "id": "SeBt_zRYsbUh",
    "pycharm": {
     "name": "#%% md\n"
    }
   }
  },
  {
   "cell_type": "code",
   "source": [
    "# You can probably guess what I'd say here\n",
    "p_shapiro = stats.shapiro(total)\n",
    "p_levene = stats.levene(total[:,0],total[:,1],total[:,2])\n",
    "\n",
    "print('p value for Shapiro-Wilk: %.2f' % p_shapiro[1])\n",
    "print('p value for Levene: %.2f' % p_levene[1])"
   ],
   "metadata": {
    "colab": {
     "base_uri": "https://localhost:8080/"
    },
    "id": "BQn7WbXes4XB",
    "executionInfo": {
     "status": "ok",
     "timestamp": 1640035596388,
     "user_tz": 360,
     "elapsed": 199,
     "user": {
      "displayName": "James Long",
      "photoUrl": "https://lh3.googleusercontent.com/a/default-user=s64",
      "userId": "02561479835225328505"
     }
    },
    "outputId": "7c604c90-a366-490f-9f36-c49a76b59bea",
    "pycharm": {
     "name": "#%%\n"
    }
   },
   "execution_count": null,
   "outputs": [
    {
     "output_type": "stream",
     "name": "stdout",
     "text": [
      "p value for Shapiro-Wilk: 0.59\n",
      "p value for Levene: 0.28\n"
     ]
    }
   ]
  },
  {
   "cell_type": "markdown",
   "source": [
    "## Post hoc testing\n",
    "Let's go back and run some post hoc tests on the data to determine which groups are significantly different than one another. Perform a Tukey test and report your findings."
   ],
   "metadata": {
    "id": "Lywy2E4rsFDX",
    "pycharm": {
     "name": "#%% md\n"
    }
   }
  },
  {
   "cell_type": "code",
   "source": [
    "from statsmodels.stats.multicomp import pairwise_tukeyhsd\n",
    "\n",
    "# Some moving the data frame around to prep it for use.\n",
    "df_tukey = pd.DataFrame({'clot_time': np.concatenate([np.array(df['control']),\n",
    "                                                      np.array(df['3mo']),\n",
    "                                                      np.array(df['6mo'])]),\n",
    "                         'group': np.concatenate([np.repeat('control',repeats=df['subject'].count()),\n",
    "                                                  np.repeat('3mo',repeats=df['subject'].count()),\n",
    "                                                  np.repeat('6mo',repeats=df['subject'].count())])})\n",
    "\n",
    "tukey = pairwise_tukeyhsd(endog=df_tukey['clot_time'],\n",
    "                          groups=df_tukey['group'],\n",
    "                          alpha=0.05)\n",
    "\n",
    "print(tukey)\n",
    "\n"
   ],
   "metadata": {
    "colab": {
     "base_uri": "https://localhost:8080/"
    },
    "id": "T243mGXHvm9H",
    "executionInfo": {
     "status": "ok",
     "timestamp": 1640036514193,
     "user_tz": 360,
     "elapsed": 197,
     "user": {
      "displayName": "James Long",
      "photoUrl": "https://lh3.googleusercontent.com/a/default-user=s64",
      "userId": "02561479835225328505"
     }
    },
    "outputId": "80836543-1b26-4dff-ce67-dc4a5cfe7664",
    "pycharm": {
     "name": "#%%\n"
    }
   },
   "execution_count": null,
   "outputs": [
    {
     "output_type": "stream",
     "name": "stdout",
     "text": [
      "Multiple Comparison of Means - Tukey HSD, FWER=0.05 \n",
      "====================================================\n",
      "group1  group2 meandiff p-adj   lower  upper  reject\n",
      "----------------------------------------------------\n",
      "   3mo     6mo   -0.125    0.9 -3.0249 2.7749  False\n",
      "   3mo control    3.875 0.0078  0.9751 6.7749   True\n",
      "   6mo control      4.0 0.0061  1.1001 6.8999   True\n",
      "----------------------------------------------------\n"
     ]
    }
   ]
  }
 ]
}