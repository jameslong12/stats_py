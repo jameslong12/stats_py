{
 "nbformat": 4,
 "nbformat_minor": 0,
 "metadata": {
  "colab": {
   "name": "module_4_anova.ipynb",
   "provenance": []
  },
  "kernelspec": {
   "name": "python3",
   "display_name": "Python 3"
  },
  "language_info": {
   "name": "python"
  }
 },
 "cells": [
  {
   "cell_type": "markdown",
   "source": [
    "#Module 4: ANOVA\n",
    "\n",
    "##Blood clotting\n",
    "Investigators are measuring how regular use of a commonly used painkiller affects blood clotting in patients over time, assuming a significance of 0.05. The experiment was designed as follows:\n",
    "\n",
    "\n",
    "*   Eight subjects were gathered. Each had their blood tested for clotting time (minutes) before use of the painkiller as a control.\n",
    "*   Subjects began regular use of the painkiller. Clotting time was then measured three months after drug use began.\n",
    "*   Clotting time was then measured six months after drug use began.\n",
    "\n",
    "Before we dive into the Python, discuss briefly:\n",
    "\n",
    "\n",
    "*   Would a regular or repeated measures ANOVA be appropriate to assess the drug's effect on clotting time?\n",
    "*   Propose a null and alternate hypothesis for this study.\n",
    "*   List the assumptions that must be valid (or close to valid) when drawing conclusions from your test.\n"
   ],
   "metadata": {
    "id": "HBB6LlAsbkpP",
    "pycharm": {
     "name": "#%% md\n"
    }
   }
  },
  {
   "cell_type": "code",
   "execution_count": 3,
   "metadata": {
    "id": "7e3ngoxDavVo",
    "pycharm": {
     "name": "#%%\n"
    }
   },
   "outputs": [
    {
     "name": "stdout",
     "output_type": "stream",
     "text": [
      "<class 'pandas.core.frame.DataFrame'>\n",
      "RangeIndex: 8 entries, 0 to 7\n",
      "Data columns (total 4 columns):\n",
      " #   Column   Non-Null Count  Dtype\n",
      "---  ------   --------------  -----\n",
      " 0   subject  8 non-null      int64\n",
      " 1   control  8 non-null      int64\n",
      " 2   3mo      8 non-null      int64\n",
      " 3   6mo      8 non-null      int64\n",
      "dtypes: int64(4)\n",
      "memory usage: 384.0 bytes\n"
     ]
    }
   ],
   "source": [
    "import scipy.stats as stats\n",
    "import numpy as np\n",
    "import pandas as pd\n",
    "\n",
    "df = pd.read_csv(\"../data/clot_data.csv\")\n",
    "df.info()"
   ]
  },
  {
   "cell_type": "markdown",
   "source": [
    "## Calculating sum of squares\n",
    "Fill in the table below with calculated values.\n",
    "\n",
    "| | Sum of squares (SS) | Degrees of freedom (DF) |\n",
    "| --- | --- | --- |\n",
    "| Total | | |\n",
    "| Between groups | | |\n",
    "| Within groups | | |\n",
    "| Subjects groups | | |\n",
    "| Error | | |\n"
   ],
   "metadata": {
    "id": "jiCXZVfjcz6-",
    "pycharm": {
     "name": "#%% md\n"
    }
   }
  },
  {
   "cell_type": "code",
   "source": [
    "# A lot of operations here. Time to practice your Python skills!\n",
    "total = np.array(df[['control','3mo','6mo']])\n",
    "grand_mean = \n",
    "\n",
    "ss_total = \n",
    "ss_bg = \n",
    "ss_wg = \n",
    "ss_subject = \n",
    "ss_error = \n",
    "\n",
    "print('Sum of squares:')\n",
    "print('Total: %.2f' % ss_total)\n",
    "print('Between group: %.2f' % ss_bg)\n",
    "print('Within group: %.2f' % ss_wg)\n",
    "print('Subject: %.2f' % ss_subject)\n",
    "print('Error: %.2f' % ss_error)"
   ],
   "metadata": {
    "id": "1gmQp6iXgQ2U",
    "pycharm": {
     "name": "#%%\n"
    }
   },
   "execution_count": null,
   "outputs": []
  },
  {
   "cell_type": "markdown",
   "source": [
    "## Calculating the F-statistic\n",
    "Fill in the table below with calculated values. When comparing to a significance of 0.05, what can you conclude about the effect of painkillers on mean clotting time over time?\n",
    "\n",
    "| | Mean sum of squares (MSS) | F-statistic | p-value |\n",
    "| --- | --- | --- | --- |\n",
    "| Between group | | | |\n",
    "| Error | | N/A | N/A |\n"
   ],
   "metadata": {
    "id": "_EDa1pVhoZRL",
    "pycharm": {
     "name": "#%% md\n"
    }
   }
  },
  {
   "cell_type": "code",
   "source": [
    "mss_bg = \n",
    "mss_error = \n",
    "\n",
    "f_stat = \n",
    "\n",
    "# Similar to a function we've seen before. Check the docs!\n",
    "p = stats.f.cdf()\n",
    "\n",
    "print('Mean sum of squares:')\n",
    "print('Between group: %.2f' % mss_bg)\n",
    "print('Error: %.2f' % mss_error)\n",
    "print('F-statistic: %.2f' % f_stat)\n",
    "print('p: %.3f' % p)"
   ],
   "metadata": {
    "id": "pxmIMd6-ooOd",
    "pycharm": {
     "name": "#%%\n"
    }
   },
   "execution_count": null,
   "outputs": []
  },
  {
   "cell_type": "markdown",
   "source": [
    "## Testing assumptions\n",
    "\n",
    "Let's now test the assumptions that we assumed were valid at the start. Test for the following assumptions: normality and homogeneity of variance. What do the results indicate?"
   ],
   "metadata": {
    "id": "SeBt_zRYsbUh",
    "pycharm": {
     "name": "#%% md\n"
    }
   }
  },
  {
   "cell_type": "code",
   "source": [
    "# You can probably guess what I'd say here\n",
    "p_shapiro = stats.shapiro()\n",
    "p_levene = stats.levene()\n",
    "\n",
    "print('p value for Shapiro-Wilk: %.2f' % p_shapiro)\n",
    "print('p value for Levene: %.2f' % p_levene)"
   ],
   "metadata": {
    "id": "BQn7WbXes4XB",
    "pycharm": {
     "name": "#%%\n"
    }
   },
   "execution_count": null,
   "outputs": []
  },
  {
   "cell_type": "markdown",
   "source": [
    "## Post hoc testing\n",
    "Let's go back and run some post hoc tests on the data to determine which groups are significantly different than one another. Perform a Tukey test and report your findings."
   ],
   "metadata": {
    "id": "Lywy2E4rsFDX",
    "pycharm": {
     "name": "#%% md\n"
    }
   }
  },
  {
   "cell_type": "code",
   "source": [
    "from statsmodels.stats.multicomp import pairwise_tukeyhsd\n",
    "\n",
    "# Some moving the data frame around to prep it for use.\n",
    "df_tukey = pd.DataFrame({'clot_time': np.concatenate([np.array(df['control']),\n",
    "                                                      np.array(df['3mo']),\n",
    "                                                      np.array(df['6mo'])]),\n",
    "                         'group': np.concatenate([np.repeat('control',repeats=df['subject'].count()),\n",
    "                                                  np.repeat('3mo',repeats=df['subject'].count()),\n",
    "                                                  np.repeat('6mo',repeats=df['subject'].count())])})\n",
    "\n",
    "tukey = pairwise_tukeyhsd()\n",
    "\n",
    "print(tukey)\n",
    "\n"
   ],
   "metadata": {
    "id": "T243mGXHvm9H",
    "pycharm": {
     "name": "#%%\n"
    }
   },
   "execution_count": null,
   "outputs": []
  }
 ]
}