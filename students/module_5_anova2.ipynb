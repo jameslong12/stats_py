{
 "nbformat": 4,
 "nbformat_minor": 0,
 "metadata": {
  "colab": {
   "name": "module_5_anova2.ipynb",
   "provenance": []
  },
  "kernelspec": {
   "name": "python3",
   "display_name": "Python 3"
  },
  "language_info": {
   "name": "python"
  }
 },
 "cells": [
  {
   "cell_type": "markdown",
   "source": [
    "# Module 5: Two-way ANOVA\n",
    "\n",
    "## Renal function\n",
    "Assume you are performing a study on renal function. You are measuring the urine volume (mL) of subjects one hour after they receive a treatment. The subjects consist of 9 males and 9 females where 3 receive a sugar pill, 3 receive a salt pill, and 3 receive a caffeine pill. The collected data is stored to a .csv file.\n",
    "\n",
    "Before starting the Python, discuss briefly: what are the null hypotheses for this study?"
   ],
   "metadata": {
    "id": "Oiq-nEh801u_",
    "pycharm": {
     "name": "#%% md\n"
    }
   }
  },
  {
   "cell_type": "code",
   "execution_count": null,
   "metadata": {
    "id": "gksg5B_L0lF7",
    "pycharm": {
     "name": "#%%\n"
    }
   },
   "outputs": [],
   "source": [
    "import scipy.stats as stats\n",
    "import numpy as np\n",
    "import pandas as pd\n",
    "import statsmodels.api as sm              # A new stats package - you'll fine there are a lot\n",
    "from statsmodels.formula.api import ols\n",
    "\n",
    "df = pd.read_csv(\"https://raw.githubusercontent.com/jlongc12/stats_py/main/data/urine_volume_data.csv\")\n",
    "df.info()"
   ]
  },
  {
   "cell_type": "markdown",
   "source": [
    "## Calculating sum of squares\n",
    "Assume the data passes the assumptions necessary to perform a two-way ANOVA. Fill out the table below:\n",
    "\n",
    "| | Sum of squares (SS) | Degrees of freedom (DF) |\n",
    "| --- | --- | --- |\n",
    "| Total | | |\n",
    "| Cells (groups) | | |\n",
    "| Error (within-cells) | | |\n",
    "| Factor A (treatment) | | |\n",
    "| Factor B (sex) | | |\n",
    "| A x B interaction | | |"
   ],
   "metadata": {
    "id": "cCTujsyT1X5S",
    "pycharm": {
     "name": "#%% md\n"
    }
   }
  },
  {
   "cell_type": "code",
   "source": [
    "# statsmodels.api will calculate some of the SS for us. Calculate the rest.\n",
    "model = ols('volume ~ C(treatment) + C(sex) + C(treatment):C(sex)', data=df).fit()\n",
    "ss_results = sm.stats.anova_lm(model, typ=2)\n",
    "\n",
    "ss_factorA = \n",
    "ss_factorB = \n",
    "ss_AxB = \n",
    "ss_error = \n",
    "ss_groups = \n",
    "ss_total = \n",
    "\n",
    "print('Sum of squares:')\n",
    "print('Total: %.2f' % ss_total)\n",
    "print('Groups: %.2f' % ss_groups)\n",
    "print('Error: %.2f' % ss_error)\n",
    "print('Factor A: %.2f' % ss_factorA)\n",
    "print('Factor B: %.2f' % ss_factorB)\n",
    "print('AxB interaction: %.2f' % ss_AxB)"
   ],
   "metadata": {
    "id": "Fgj68--G149f",
    "pycharm": {
     "name": "#%%\n"
    }
   },
   "execution_count": null,
   "outputs": []
  },
  {
   "cell_type": "markdown",
   "source": [
    "Using your results from the part above, fill out the table below for α = 0.05: Which hypotheses can you reject?\n",
    "\n",
    "| | Mean sum of squares (MSS) | F-statistic | F-critical |\n",
    "| --- | --- | --- | --- |\n",
    "| Factor A | | | |\n",
    "| Factor B | | | |\n",
    "| AxB interaction | | | |\n",
    "| Error (within cells) | | N/A | N/A |"
   ],
   "metadata": {
    "id": "Sqy2Em6u4nCc",
    "pycharm": {
     "name": "#%% md\n"
    }
   }
  },
  {
   "cell_type": "code",
   "source": [
    "# Use ss_results again - there's a lot in that data frame\n",
    "mss_factorA = \n",
    "mss_factorB = \n",
    "mss_AxB = \n",
    "mss_error = \n",
    "\n",
    "print('Mean sum of squares:')\n",
    "print('Factor A: %.2f' % mss_factorA)\n",
    "print('Factor B: %.2f' % mss_factorB)\n",
    "print('AxB interaction: %.2f' % mss_AxB)\n",
    "print('AxB interaction: %.2f' % mss_error)\n",
    "\n",
    "print('F-statistic:')\n",
    "print('Factor A: %.2f' % )\n",
    "print('Factor B: %.2f' % )\n",
    "print('AxB interaction: %.2f' % )\n",
    "\n",
    "df_error = \n",
    "\n",
    "# Remember this function?\n",
    "f_factorA = stats.f.ppf()\n",
    "f_factorB = stats.f.ppf()\n",
    "f_AxB = stats.f.ppf()\n",
    "\n",
    "print('F-critical:')\n",
    "print('Factor A: %.2f' % f_factorA)\n",
    "print('Factor B: %.2f' % f_factorB)\n",
    "print('AxB interaction: %.2f' % f_AxB)"
   ],
   "metadata": {
    "id": "nuqjdL944T-O",
    "pycharm": {
     "name": "#%%\n"
    }
   },
   "execution_count": null,
   "outputs": []
  }
 ]
}