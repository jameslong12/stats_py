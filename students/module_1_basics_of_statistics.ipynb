{
 "nbformat": 4,
 "nbformat_minor": 0,
 "metadata": {
  "colab": {
   "name": "module_1_basics_of_statistics.ipynb",
   "provenance": []
  },
  "kernelspec": {
   "name": "python3",
   "display_name": "Python 3"
  },
  "language_info": {
   "name": "python"
  }
 },
 "cells": [
  {
   "cell_type": "markdown",
   "source": [
    "# Module 1: Basics of statistics\n",
    "\n",
    "\n",
    "## Statistics of nerve conduction velocities\n",
    "An inquisitive Duke BME student decides to measure the nerve conduction velocities of fellow studies on campus. After ten grueling hours of recording, the student accumulates velocity readings for a random sample of 50 students, stored to a .csv file."
   ],
   "metadata": {
    "id": "GMjTrVRd6IZ7",
    "pycharm": {
     "name": "#%% md\n"
    }
   }
  },
  {
   "cell_type": "code",
   "execution_count": 3,
   "metadata": {
    "id": "ppllJOapdrFk",
    "colab": {
     "base_uri": "https://localhost:8080/"
    },
    "executionInfo": {
     "status": "ok",
     "timestamp": 1642028628329,
     "user_tz": 300,
     "elapsed": 1814,
     "user": {
      "displayName": "James Long",
      "photoUrl": "https://lh3.googleusercontent.com/a/default-user=s64",
      "userId": "02093697503503568617"
     }
    },
    "outputId": "ba3353c0-cf25-445d-fe2b-5f37ef3d8a98",
    "pycharm": {
     "name": "#%%\n"
    }
   },
   "outputs": [
    {
     "name": "stdout",
     "output_type": "stream",
     "text": [
      "module_1_basics_of_statistics.ipynb   module_4_anova.ipynb\r\n",
      "module_2_hypothesis_testing.ipynb     module_5_anova2.ipynb\r\n",
      "module_3_regression_correlation.ipynb\r\n",
      "<class 'pandas.core.frame.DataFrame'>\n",
      "RangeIndex: 50 entries, 0 to 49\n",
      "Data columns (total 1 columns):\n",
      " #   Column  Non-Null Count  Dtype\n",
      "---  ------  --------------  -----\n",
      " 0   NCV     50 non-null     int64\n",
      "dtypes: int64(1)\n",
      "memory usage: 528.0 bytes\n"
     ]
    }
   ],
   "source": [
    "# Import relevant packages\n",
    "import scipy.stats as stats     # Comprehensive stats package\n",
    "import numpy as np              # Mathematical operations\n",
    "import plotly.express as px     # Plotting\n",
    "import pandas as pd             # Data reading and processing\n",
    "\n",
    "# Import data as pandas dataframe\n",
    "df = pd.read_csv(\"../data/ncv_data.csv\") # Make sure this is the correct path to the .csv file!\n",
    "\n",
    "# It is good practice to look at your data frame before doing any work\n",
    "df.info()\n"
   ]
  },
  {
   "cell_type": "markdown",
   "source": [
    "## Visualizing the data\n",
    "\n",
    "Make a histogram of the raw data. What information does a histogram tell you?"
   ],
   "metadata": {
    "id": "LZqXXpDj6gV4",
    "pycharm": {
     "name": "#%% md\n"
    }
   }
  },
  {
   "cell_type": "code",
   "source": [
    "fig = px.histogram(df,x=\"NCV\",                  # Call on the NCV tag in your data frame\n",
    "                   title='Histogram of NCVs',   # Give your plot a title\n",
    "                   labels={'NCV':'NCV (m/s)'})  # Change the x-axis label to include units\n",
    "fig.show()"
   ],
   "metadata": {
    "id": "IObFWkdpdxnO",
    "pycharm": {
     "name": "#%%\n"
    }
   },
   "execution_count": null,
   "outputs": []
  },
  {
   "cell_type": "markdown",
   "source": [
    "## Calculating basic measures\n",
    "\n",
    "Calculate the sample mean and standard deviation."
   ],
   "metadata": {
    "id": "UOcu7OIT69Io",
    "pycharm": {
     "name": "#%% md\n"
    }
   }
  },
  {
   "cell_type": "code",
   "source": [
    "sample_mean = \n",
    "sample_std = \n",
    "\n",
    "# Get in the habit of printing your results\n",
    "print('Sample mean: %.2f' % sample_mean)\n",
    "print('Sample standard deviation: %.2f' % sample_std)"
   ],
   "metadata": {
    "id": "mVL6jwmZK0X0",
    "pycharm": {
     "name": "#%%\n"
    }
   },
   "execution_count": null,
   "outputs": []
  },
  {
   "cell_type": "markdown",
   "source": [
    "## The sampling distribution\n",
    "\n",
    "Estimate the standard deviation of the sampling distribution of NCVs for Duke students. Be able to explain what the sampling distribution represents. Why is it acceptable to use the t-distribution to model the sampling distribution of the NCVs of Duke students? How many degrees of freedom are there when using the sample data to estimate the t-distribution?"
   ],
   "metadata": {
    "id": "wDWKj57k7hUY",
    "pycharm": {
     "name": "#%% md\n"
    }
   }
  },
  {
   "cell_type": "code",
   "source": [
    "n = df['NCV'].count()     # This is just one of several useful pandas operations\n",
    "sampling_distribution_std = \n",
    "df_ncv = \n",
    "\n",
    "# Print your results\n",
    "print('Sampling distribution standard deviation: %.2f' % sampling_distribution_std)\n",
    "print('Degrees of freedom: %d' % df_ncv)"
   ],
   "metadata": {
    "id": "Axhti-BYLx0I",
    "pycharm": {
     "name": "#%%\n"
    }
   },
   "execution_count": null,
   "outputs": []
  },
  {
   "cell_type": "markdown",
   "source": [
    "## Probabilities\n",
    "\n",
    "Assume that the true population (Duke students) mean for NCV is known to be 51 m/s. Perform the calculations necessary to indicate which region of the t-distribution (i.e. the cut-off t-value) corresponds to probability of collecting a sample with a mean less than or equal to that found using the data provided. Calculate the probability with Python and compare it to value given in the t-table provided."
   ],
   "metadata": {
    "id": "82aTTeA78hAJ",
    "pycharm": {
     "name": "#%% md\n"
    }
   }
  },
  {
   "cell_type": "code",
   "source": [
    "pop_mean = 51\n",
    "t = \n",
    "print('The region less than t-statistic = %.2f' % t)\n",
    "\n",
    "# Look up how to use this function - what inputs do you need?\n",
    "p = stats.t.cdf()\n",
    "\n",
    "print('p = %.3f' % p)\n"
   ],
   "metadata": {
    "id": "waR1VilR8Xt_",
    "pycharm": {
     "name": "#%%\n"
    }
   },
   "execution_count": null,
   "outputs": []
  },
  {
   "cell_type": "markdown",
   "source": [
    "What is the probability that your next random sample of 50 Duke students will have a mean greater than 51.5 m/s?"
   ],
   "metadata": {
    "id": "0q9wL40f75ra",
    "pycharm": {
     "name": "#%% md\n"
    }
   }
  },
  {
   "cell_type": "code",
   "source": [
    "new_sample_mean = 51.5\n",
    "t = \n",
    "\n",
    "# It's the same function as before. How will you change your inputs?\n",
    "p = stats.t.cdf()\n",
    "print('p = %.2f' % p)"
   ],
   "metadata": {
    "id": "gvsAq0FPNiYr",
    "pycharm": {
     "name": "#%%\n"
    }
   },
   "execution_count": null,
   "outputs": []
  },
  {
   "cell_type": "markdown",
   "source": [
    "# Working backwards\n",
    "\n",
    "Let's think about this problem in the reverse. Instead of determining the probability of finding a sample mean, let's find the mean that yields a desired probability, e.g. $P(\\bar{x} \\leq ?) = 0.05$. We will basically complete the following statement: \"There is a 5% chance of collecting a sample mean greater than _______.\"\n",
    "\n",
    "First, find the unknown t-statistic in the following statement: $P(t \\leq ?) = 0.95$. This value is called the critical t-value, or t-critical."
   ],
   "metadata": {
    "id": "0U9-BMmU-Ctb",
    "pycharm": {
     "name": "#%% md\n"
    }
   }
  },
  {
   "cell_type": "code",
   "source": [
    "# Another functions from stats.t. Always look up documentation if you don't recognize a function!\n",
    "t_crit = stats.t.ppf()\n",
    "print('t-critical = %.2f' % t_crit)"
   ],
   "metadata": {
    "id": "NNXBK0AJN1zQ",
    "pycharm": {
     "name": "#%%\n"
    }
   },
   "execution_count": null,
   "outputs": []
  },
  {
   "cell_type": "markdown",
   "source": [
    "Using this t-critical value, find the sample mean that completes the following statement: \"There is a 5% chance of collecting a sample mean greater than _______.\""
   ],
   "metadata": {
    "id": "64Ye8wc3-1sN",
    "pycharm": {
     "name": "#%% md\n"
    }
   }
  },
  {
   "cell_type": "code",
   "source": [
    "new_sample_mean = \n",
    "print('There is a 5%% chance of collecting a sample mean greater than %.2f' % new_sample_mean)"
   ],
   "metadata": {
    "id": "zk0oW6rt_F-A",
    "pycharm": {
     "name": "#%%\n"
    }
   },
   "execution_count": null,
   "outputs": []
  }
 ]
}