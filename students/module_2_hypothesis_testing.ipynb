{
 "nbformat": 4,
 "nbformat_minor": 0,
 "metadata": {
  "colab": {
   "name": "module_2_hypothesis_testing.ipynb",
   "provenance": []
  },
  "kernelspec": {
   "name": "python3",
   "display_name": "Python 3"
  },
  "language_info": {
   "name": "python"
  }
 },
 "cells": [
  {
   "cell_type": "markdown",
   "source": [
    "# Module 2: Hypothesis testing\n",
    "\n",
    "\n",
    "## Statistics of pulse wave velocity\n",
    "\n",
    "In lab 3, you will be investigating the effect of exercise of pulse wave velocity (the velocity of the pressure wave that is created by your heart and moves through your blood vessels). You are asking the question, \"Does exercise affect pulse wave velocity?\" You decided that a type I error rate of 0.05 will be acceptable in determining your final statistical conclusion. Each student's pulse wave velocity was measured immediately before and after a 3-minute stair-stepping exercise routine. The collected data was stored in a .csv file."
   ],
   "metadata": {
    "id": "lzqeIpIO_40f",
    "pycharm": {
     "name": "#%% md\n"
    }
   }
  },
  {
   "cell_type": "code",
   "execution_count": null,
   "metadata": {
    "id": "a_wS96eHOTHA",
    "pycharm": {
     "name": "#%%\n"
    }
   },
   "outputs": [],
   "source": [
    "# Import relevant packages\n",
    "import scipy.stats as stats\n",
    "import numpy as np\n",
    "import plotly.graph_objects as go\n",
    "import pandas as pd\n",
    "\n",
    "# Import data as pandas dataframe\n",
    "df = pd.read_csv(\"../data/pwv_data.csv\")\n",
    "df.info()"
   ]
  },
  {
   "cell_type": "markdown",
   "source": [
    "## Visualizing the data\n",
    "\n",
    "Create two overlaid histograms displaying the two distributions of data. What preliminary observations can you make from these histograms?"
   ],
   "metadata": {
    "id": "yhfW3lTfAfRQ",
    "pycharm": {
     "name": "#%% md\n"
    }
   }
  },
  {
   "cell_type": "code",
   "source": [
    "# The graph_objects package from plotly allows us to overlay traces\n",
    "fig = go.Figure()\n",
    "fig.add_trace(go.Histogram(x=df['before'],\n",
    "                           nbinsx=10))\n",
    "fig.add_trace(go.Histogram(x=df['after'],\n",
    "                           nbinsx=10))\n",
    "\n",
    "fig.update_layout(barmode='overlay')\n",
    "fig.update_traces(opacity=0.6) # You can change this to improve visualization\n",
    "fig.show()\n"
   ],
   "metadata": {
    "id": "qJfPYxEVQZcA",
    "pycharm": {
     "name": "#%%\n"
    }
   },
   "execution_count": null,
   "outputs": []
  },
  {
   "cell_type": "markdown",
   "source": [
    "Another way to view the data is with a bar graph. Create a bar graph that effectively displays the descriptive statsitcs of the data provided (mean, SEM). "
   ],
   "metadata": {
    "id": "veuqjrYkBcmT",
    "pycharm": {
     "name": "#%% md\n"
    }
   }
  },
  {
   "cell_type": "code",
   "source": [
    "mean_before = \n",
    "sem_before = \n",
    "mean_after = \n",
    "sem_after = \n",
    "\n",
    "# Graphing can get a little complicated. We've included the template here to save you time.\n",
    "fig = go.Figure()\n",
    "fig.add_trace(go.Bar(x=(\"before\",\"after\"),\n",
    "                     y=(mean_before,mean_after),\n",
    "                     error_y=dict(type='data',\n",
    "                                  array=(sem_before,sem_after),\n",
    "                                  visible=True)))\n",
    "fig.show()"
   ],
   "metadata": {
    "id": "HETyno4gQleH",
    "pycharm": {
     "name": "#%%\n"
    }
   },
   "execution_count": null,
   "outputs": []
  },
  {
   "cell_type": "markdown",
   "source": [
    "## Performing statistical testing\n",
    "\n",
    "What kind of statistical test do you think is appropriate in this situation? Be as specific as you can.\n",
    "\n",
    "Assume the assumptions necessary for your chosen test are valid. Perform your test and determine if the null hypothesis can be rejected."
   ],
   "metadata": {
    "id": "eGVvtxc-BqCi",
    "pycharm": {
     "name": "#%% md\n"
    }
   }
  },
  {
   "cell_type": "code",
   "source": [
    "difference = df['after']-df['before']\n",
    "t = \n",
    "print('t-statistic: %.2f' % t)\n",
    "\n",
    "# Be mindful of the type of test you've chosen here! Hint: how many tails?\n",
    "alpha = 0.05\n",
    "t_crit = stats.t.ppf()\n",
    "print('t-critical: %.2f' % t_crit)\n",
    "\n",
    "if abs(t) > t_crit:\n",
    "  print('|t-stat| > t-crit, therefore we reject the null hypothesis.')\n",
    "else:\n",
    "  print('|t-stat| <= t-crit, therefore we fail to reject the null hypothesis.')"
   ],
   "metadata": {
    "id": "Zb0Epq_CSepS",
    "pycharm": {
     "name": "#%%\n"
    }
   },
   "execution_count": null,
   "outputs": []
  },
  {
   "cell_type": "markdown",
   "source": [
    "## Confidence intervals\n",
    "\n",
    "Based on the sample data, determine the 95% confidence interval for the resting (before exercise) pulse wave velocity. What does this interval indicate?"
   ],
   "metadata": {
    "id": "ElY522yZC1Nv",
    "pycharm": {
     "name": "#%% md\n"
    }
   }
  },
  {
   "cell_type": "code",
   "source": [
    "ci_lower = mean_before-t_crit*sem_before\n",
    "ci_upper = mean_before+t_crit*sem_before\n",
    "ci = (ci_lower,ci_upper)\n",
    "\n",
    "# You can print using tuples! Here's an example.\n",
    "print('We are 95%% confident that the population mean is within the interval (%.2f,%.2f).' % ci)"
   ],
   "metadata": {
    "id": "KblKsZGZTh_j",
    "pycharm": {
     "name": "#%%\n"
    }
   },
   "execution_count": null,
   "outputs": []
  }
 ]
}