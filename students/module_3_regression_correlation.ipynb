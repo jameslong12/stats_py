{
 "nbformat": 4,
 "nbformat_minor": 0,
 "metadata": {
  "colab": {
   "name": "module_3_regression_correlation.ipynb",
   "provenance": []
  },
  "kernelspec": {
   "name": "python3",
   "display_name": "Python 3"
  },
  "language_info": {
   "name": "python"
  }
 },
 "cells": [
  {
   "cell_type": "markdown",
   "source": [
    "# Module 3: Regression and correlation\n",
    "\n",
    "\n",
    "## Nonlinear regression\n",
    "\n",
    "The relative diffusivity (compared to water) of various sized solutes through a 5% agarose hydrogel was found experimentally. The experimental data is shown in the table below. As expected, the diffusivity through the porous hydrogel decreases as the size of the solute increases (radius = a). Our goal is to estimate the pore size of the hydrogel using the experiemental data."
   ],
   "metadata": {
    "id": "8diCy1-fQHZE",
    "pycharm": {
     "name": "#%% md\n"
    }
   }
  },
  {
   "cell_type": "code",
   "execution_count": null,
   "metadata": {
    "id": "PmnIDyOxT6zm",
    "pycharm": {
     "name": "#%%\n"
    }
   },
   "outputs": [],
   "source": [
    "import scipy.stats as stats\n",
    "from scipy.optimize import curve_fit  # New stats package!\n",
    "import numpy as np\n",
    "import plotly.graph_objects as go\n",
    "import pandas as pd\n",
    "\n",
    "df = pd.read_csv(\"../data/solute_data.csv\")\n",
    "df.info()"
   ]
  },
  {
   "cell_type": "markdown",
   "source": [
    "## Curve fitting\n",
    "The Renkin equation, shown below, describes diffusivity in terms of the pore size (r) and solute size (a). Use the curve fitting package from scipy to fit the data to the Renkin equation. What is the estimated pore size?\n",
    "\n",
    "$\\frac{D_{Gel}}{D_{H2O}} = \\Big(1-\\frac{a}{r}\\Big)^2\\left(1-2.1\\Big(\\frac{a}{r}\\Big)+2.09\\Big(\\frac{a}{r}\\Big)^3-0.95\\Big(\\frac{a}{r}\\Big)^5\\right)$\n",
    "\n"
   ],
   "metadata": {
    "id": "VMiL-fd5Qjr8",
    "pycharm": {
     "name": "#%% md\n"
    }
   }
  },
  {
   "cell_type": "code",
   "source": [
    "# Write a function that calculates diffusivity as a function of pore size and solute size\n",
    "def func(a,r):\n",
    "    return \n",
    "\n",
    "# Use the new curve_fit function. What are the outputs? Check the documentation.\n",
    "r, rcov = curve_fit()\n",
    "r_nm = r*1e9\n",
    "\n",
    "print('Pore size: %.2f nm' % r_nm)"
   ],
   "metadata": {
    "id": "SStbG4cAfFAk",
    "pycharm": {
     "name": "#%%\n"
    }
   },
   "execution_count": null,
   "outputs": []
  },
  {
   "cell_type": "markdown",
   "source": [
    "Plot your fitted equation with the solute data provided. Is the Renkin equation a good fit?"
   ],
   "metadata": {
    "id": "teNrV_jVSwoJ",
    "pycharm": {
     "name": "#%% md\n"
    }
   }
  },
  {
   "cell_type": "code",
   "source": [
    "# Again, plotting can get complicated, so we've included the code for you. Note\n",
    "# how both plot types use the go.Scatter call, but with different 'mode' types.\n",
    "\n",
    "fig = go.Figure()\n",
    "fig.add_trace(go.Scatter(x=df['radius'],\n",
    "                         y=df['Dratio'],\n",
    "                         mode=\"markers\",\n",
    "                         name=\"data\"))    # Label your trace for the legend\n",
    "\n",
    "linex = np.linspace(3e-8,4e-7,100)        # use np.linspace to define a vector of x-values\n",
    "fig.add_trace(go.Scatter(x=linex,\n",
    "                         y=func(linex,r),\n",
    "                         mode=\"lines\",\n",
    "                         name=\"fit\"))\n",
    "fig.show()"
   ],
   "metadata": {
    "id": "5ACBRGLoS9dR",
    "pycharm": {
     "name": "#%%\n"
    }
   },
   "execution_count": null,
   "outputs": []
  },
  {
   "cell_type": "markdown",
   "source": [
    "## Residuals\n",
    "\n",
    "Calculate and plot the residuals for each data point. What does this plot tell us about the fit? Verify your answer by calculating the R2 value."
   ],
   "metadata": {
    "id": "FQiv_JD4Sn0Y",
    "pycharm": {
     "name": "#%% md\n"
    }
   }
  },
  {
   "cell_type": "code",
   "source": [
    "Dratio_fit = \n",
    "residuals = \n",
    "\n",
    "fig = go.Figure()\n",
    "fig.add_trace(go.Scatter(x=df['radius'],\n",
    "                         y=residuals,\n",
    "                         mode=\"markers\"))\n",
    "fig.show()\n",
    "\n",
    "# There's a couple steps here. Check your work!\n",
    "R2 = \n",
    "print('R2: %.2f' % R2)"
   ],
   "metadata": {
    "id": "mU4Lfq-bgcRO",
    "pycharm": {
     "name": "#%%\n"
    }
   },
   "execution_count": null,
   "outputs": []
  },
  {
   "cell_type": "markdown",
   "source": [
    "Calculate the 95% confidence interval for your fitted variable, r. Plot the 95% prediction bounds of your fit. What do these bounds indicate?\n",
    "\n"
   ],
   "metadata": {
    "id": "S1NGR-IeUWN9",
    "pycharm": {
     "name": "#%% md\n"
    }
   }
  },
  {
   "cell_type": "code",
   "source": [
    "# It's not immediately obvious how to get the standard deviation, so we've included it here.\n",
    "# Use this to find your upper and lower bounds. Hint: you will need stats.t.ppf\n",
    "s = np.sqrt(np.diag(rcov))\n",
    "\n",
    "rlow = \n",
    "rhigh = \n",
    "\n",
    "fig = go.Figure()\n",
    "fig.add_trace(go.Scatter(x=df['radius'],\n",
    "                         y=df['Dratio'],\n",
    "                         mode=\"markers\",\n",
    "                         name=\"data\"))\n",
    "\n",
    "linex = np.linspace(3e-8,4e-7,100)\n",
    "fig.add_trace(go.Scatter(x=linex,\n",
    "                         y=func(linex,r),\n",
    "                         mode=\"lines\",\n",
    "                         name=\"fit\"))\n",
    "\n",
    "# Repeat the block above for your low and high bounds for r\n",
    "linex = np.linspace(3e-8,4e-7,100)\n",
    "fig.add_trace(go.Scatter(x=linex,\n",
    "                         y=func(linex,rlow),\n",
    "                         mode=\"lines\",\n",
    "                         name=\"lower prediction\"))\n",
    "\n",
    "linex = np.linspace(3e-8,4e-7,100)\n",
    "fig.add_trace(go.Scatter(x=linex,\n",
    "                         y=func(linex,rhigh),\n",
    "                         mode=\"lines\",\n",
    "                         name=\"upper prediction\"))\n",
    "fig.show()"
   ],
   "metadata": {
    "id": "9rbQI7iJWmkB",
    "pycharm": {
     "name": "#%%\n"
    }
   },
   "execution_count": null,
   "outputs": []
  }
 ]
}